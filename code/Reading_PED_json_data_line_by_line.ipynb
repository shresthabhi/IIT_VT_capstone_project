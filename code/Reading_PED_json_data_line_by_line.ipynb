{
  "cells": [
    {
      "cell_type": "markdown",
      "metadata": {
        "id": "view-in-github",
        "colab_type": "text"
      },
      "source": [
        "<a href=\"https://colab.research.google.com/github/shresthabhi/IIT_VT_capstone_project/blob/main/code/Reading_PED_json_data_line_by_line.ipynb\" target=\"_parent\"><img src=\"https://colab.research.google.com/assets/colab-badge.svg\" alt=\"Open In Colab\"/></a>"
      ]
    },
    {
      "cell_type": "code",
      "execution_count": null,
      "metadata": {
        "id": "Az1cQB5D_UXK"
      },
      "outputs": [],
      "source": [
        "import pandas as pd\n",
        "import numpy as np\n",
        "import json\n",
        "import time\n",
        "from collections import defaultdict\n",
        "import matplotlib.pyplot as plt\n",
        "import seaborn as sns\n",
        "import os"
      ]
    },
    {
      "cell_type": "code",
      "execution_count": null,
      "metadata": {
        "id": "VUcSUJ-i_UXO",
        "outputId": "21a2aa2e-9b20-469f-b5b3-e475b79b5045"
      },
      "outputs": [
        {
          "name": "stdout",
          "output_type": "stream",
          "text": [
            "X:\\Business Analytics Course\\Patent project\\data\\ped_data Y:\\processed_Data\\\n"
          ]
        }
      ],
      "source": [
        "input_location = os.getcwd()## ADD INPUT LOCATION\n",
        "\n",
        "output_location = os.path.join(\"Y:\\processed_Data\",\"\") ## ADD OUTPUT LOCATION\n",
        "print(input_location, output_location) "
      ]
    },
    {
      "cell_type": "code",
      "execution_count": null,
      "metadata": {
        "id": "JbZvKmNz_UXP"
      },
      "outputs": [],
      "source": [
        "def check_examiner_applicant_name(applicantBagOrInventoryBag):\n",
        "    \n",
        "    primaryExaminerCount = 0\n",
        "    nameCount = 0\n",
        "    \n",
        "    personNameCount = 0\n",
        "    \n",
        "    primaryApplicantCount = 0\n",
        "    applicantNameCount = 0\n",
        "    \n",
        "    examiner = \"primaryExaminerOrAssistantExaminerOrAuthorizedOfficer\"\n",
        "    applicant = \"applicant\"\n",
        "    \n",
        "    for value in applicantBagOrInventoryBag:\n",
        "        keys_in_value = value.keys()\n",
        "        \n",
        "        for key in keys_in_value:\n",
        "            if(key == examiner):\n",
        "                primaryExaminerCount+=1\n",
        "                nameCount += len(value[examiner])\n",
        "                \n",
        "                personNameCount+=len(value[examiner][0][\"name\"][\"personNameOrOrganizationNameOrEntityName\"])\n",
        "                \n",
        "            elif(key == applicant):\n",
        "                primaryApplicantCount+=1\n",
        "                applicantNameCount += len(value[applicant])\n",
        "                \n",
        "            else:\n",
        "                continue;\n",
        "                \n",
        "    return [primaryExaminerCount, nameCount], [primaryApplicantCount, applicantNameCount], personNameCount\n",
        "\n",
        "def check_applicant_name(applicantBagOrInventoryBag):\n",
        "    \n",
        "    primaryExaminerCount = 0\n",
        "    nameCount = 0\n",
        "    level_1 = \"applicant\"\n",
        "    \n",
        "    for value in applicantBagOrInventoryBag:\n",
        "        keys_in_value = value.keys()\n",
        "        \n",
        "        for key in keys_in_value:\n",
        "            if(key == level_1):\n",
        "                primaryExaminerCount+=1\n",
        "                nameCount += len(value[level_1])\n",
        "                \n",
        "            else:\n",
        "                continue;\n",
        "                \n",
        "    return primaryExaminerCount, nameCount"
      ]
    },
    {
      "cell_type": "code",
      "execution_count": null,
      "metadata": {
        "id": "EFntXNme_UXQ"
      },
      "outputs": [],
      "source": [
        "def extract_examiner_name(application):\n",
        "    \n",
        "    applicantBagOrInventoryBag = application[\"patentCaseMetadata\"][\"partyBag\"][\"applicantBagOrInventorBagOrOwnerBag\"]\n",
        "    examiner = \"primaryExaminerOrAssistantExaminerOrAuthorizedOfficer\"\n",
        "    \n",
        "    for value in applicantBagOrInventoryBag:\n",
        "        keys_in_value = value.keys()\n",
        "        \n",
        "        for key in keys_in_value:\n",
        "            if(key == examiner):\n",
        "                return value[examiner][0][\"name\"][\"personNameOrOrganizationNameOrEntityName\"][0][\"personFullName\"]\n",
        "    \n",
        "\n",
        "def extract_prosecution_history(application):\n",
        "    \n",
        "    prosecutionHistory  = application[\"prosecutionHistoryDataBag\"][\"prosecutionHistoryData\"]\n",
        "    prosecutionDate = []\n",
        "    prosecutionEventDescription = []\n",
        "    prosecutionEventCode = []\n",
        "    \n",
        "    final_data = []\n",
        "    \n",
        "    for event in prosecutionHistory:\n",
        "        e = []\n",
        "        \n",
        "        eventCode = event.get(\"eventCode\")\n",
        "        if(eventCode != None):\n",
        "            e.append(eventCode)\n",
        "        else :\n",
        "            e.append(np.nan)\n",
        "\n",
        "\n",
        "        eventDate = event.get(\"eventDate\")\n",
        "        if(eventDate != None):\n",
        "            e.append(eventDate)\n",
        "        else :\n",
        "            e.append(np.nan)\n",
        "\n",
        "        eventDescriptionText = event.get(\"eventDescriptionText\")\n",
        "        if(eventDescriptionText != None):\n",
        "            e.append(eventDescriptionText)\n",
        "        else :\n",
        "            e.append(np.nan)\n",
        "            \n",
        "        final_data.append(e)\n",
        "            \n",
        "    return final_data\n",
        "    \n",
        "def extract_content_resource(application):\n",
        "    \n",
        "    contentResource = application[\"contentResourceBag\"][\"contentResource\"]\n",
        "    \n",
        "    officialDates = []\n",
        "    documentCodes = []\n",
        "    descriptionTexts = []\n",
        "    documentCategories = []\n",
        "    pageTotalQuantities = []\n",
        "    \n",
        "    for event in contentResource:\n",
        "        \n",
        "        officialDate = event.get(\"officialDate\")\n",
        "        if(officialDate != None):\n",
        "            officialDates.append(officialDate)\n",
        "        else :\n",
        "            officialDates.append(np.nan)\n",
        "            \n",
        "        documentCode = event.get(\"documentCode\")\n",
        "        if(documentCode != None):\n",
        "            documentCodes.append(documentCode)\n",
        "        else :\n",
        "            documentCodes.append(np.nan)\n",
        "            \n",
        "        descriptionText = event.get(\"descriptionText\")\n",
        "        if(descriptionText != None):\n",
        "            descriptionTexts.append(descriptionText)\n",
        "        else :\n",
        "            descriptionTexts.append(np.nan)\n",
        "            \n",
        "        documentCategory = event.get(\"documentCategory\")\n",
        "        if(documentCategory != None):\n",
        "            documentCategories.append(documentCategory)\n",
        "        else :\n",
        "            documentCategories.append(np.nan)\n",
        "            \n",
        "        pageTotalQuantity = event.get(\"pageTotalQuantity\")\n",
        "        if(pageTotalQuantity != None):\n",
        "            pageTotalQuantities.append(pageTotalQuantity)\n",
        "        else :\n",
        "            pageTotalQuantities.append(np.nan)\n",
        "            \n",
        "    \n",
        "    return officialDates, documentCodes, descriptionTexts, documentCategories, pageTotalQuantities\n",
        "    \n",
        "    \n"
      ]
    },
    {
      "cell_type": "code",
      "execution_count": null,
      "metadata": {
        "id": "MwYC9m2s_UXS",
        "outputId": "1ce8f8b9-7e21-430e-d5f4-61b64cef9c90"
      },
      "outputs": [
        {
          "name": "stdout",
          "output_type": "stream",
          "text": [
            "An exception occurred : 1\n",
            "An exception occurred : 448889\n",
            "448889\n"
          ]
        }
      ],
      "source": []
    },
    {
      "cell_type": "code",
      "execution_count": null,
      "metadata": {
        "id": "UvPz_Dgh_UXU",
        "outputId": "b0798d0a-7f73-4aa7-fef4-3e577f54254d"
      },
      "outputs": [
        {
          "name": "stdout",
          "output_type": "stream",
          "text": [
            "An exception occurred : 1\n",
            "50000 A file has been processed\n",
            "100000 A file has been processed\n",
            "150000 A file has been processed\n",
            "200000 A file has been processed\n",
            "250000 A file has been processed\n",
            "300000 A file has been processed\n",
            "350000 A file has been processed\n",
            "400000 A file has been processed\n",
            "450000 A file has been processed\n",
            "500000 A file has been processed\n",
            "An exception occurred : 548241\n",
            "548241 A file has been processed\n",
            "2018 548241 548239 2 defaultdict(<class 'int'>, {\"'groupArtUnitNumber'\": 83183, \"'applicationStatusCategory'\": 2732, \"'officialFileLocationCategory'\": 9847, \"'contentResourceBag'\": 840, \"'applicationTypeCategory'\": 2648})\n",
            "An exception occurred : 548242\n",
            "550000 A file has been processed\n",
            "600000 A file has been processed\n",
            "650000 A file has been processed\n",
            "700000 A file has been processed\n",
            "750000 A file has been processed\n",
            "800000 A file has been processed\n",
            "850000 A file has been processed\n",
            "900000 A file has been processed\n",
            "950000 A file has been processed\n",
            "1000000 A file has been processed\n",
            "1050000 A file has been processed\n",
            "1100000 A file has been processed\n",
            "An exception occurred : 1118833\n",
            "1118833 A file has been processed\n",
            "2019 1118833 1118829 4 defaultdict(<class 'int'>, {\"'groupArtUnitNumber'\": 151793, \"'applicationStatusCategory'\": 22066, \"'officialFileLocationCategory'\": 18083, \"'contentResourceBag'\": 2492, \"'applicationTypeCategory'\": 4569})\n",
            "An exception occurred : 1118834\n",
            "1150000 A file has been processed\n",
            "1200000 A file has been processed\n",
            "1250000 A file has been processed\n",
            "1300000 A file has been processed\n",
            "1350000 A file has been processed\n",
            "1400000 A file has been processed\n",
            "1450000 A file has been processed\n",
            "1500000 A file has been processed\n",
            "1550000 A file has been processed\n",
            "1600000 A file has been processed\n",
            "1650000 A file has been processed\n",
            "An exception occurred : 1668404\n",
            "1668404 A file has been processed\n",
            "2020 1668404 1668398 6 defaultdict(<class 'int'>, {\"'groupArtUnitNumber'\": 198062, \"'applicationStatusCategory'\": 66103, \"'officialFileLocationCategory'\": 24304, \"'contentResourceBag'\": 5926, \"'applicationTypeCategory'\": 6132})\n",
            "An exception occurred : 1668405\n",
            "1700000 A file has been processed\n",
            "1750000 A file has been processed\n",
            "1800000 A file has been processed\n",
            "1850000 A file has been processed\n",
            "1900000 A file has been processed\n",
            "1950000 A file has been processed\n",
            "2000000 A file has been processed\n",
            "2050000 A file has been processed\n",
            "2100000 A file has been processed\n",
            "An exception occurred : 2117293\n",
            "2117293 A file has been processed\n",
            "2021 2117293 2117285 8 defaultdict(<class 'int'>, {\"'groupArtUnitNumber'\": 219175, \"'applicationStatusCategory'\": 94901, \"'officialFileLocationCategory'\": 28523, \"'contentResourceBag'\": 14670, \"'applicationTypeCategory'\": 6761})\n",
            "An exception occurred : 2117294\n",
            "2150000 A file has been processed\n",
            "2200000 A file has been processed\n",
            "2250000 A file has been processed\n",
            "2300000 A file has been processed\n",
            "An exception occurred : 2304505\n",
            "2304505 A file has been processed\n",
            "2022 2304505 2304495 10 defaultdict(<class 'int'>, {\"'groupArtUnitNumber'\": 224108, \"'applicationStatusCategory'\": 97313, \"'officialFileLocationCategory'\": 29201, \"'contentResourceBag'\": 26601, \"'applicationTypeCategory'\": 6771, \"'applicantBagOrInventorBagOrOwnerBag'\": 1})\n"
          ]
        }
      ],
      "source": [
        "counter = 0;                   # Total json file\n",
        "errorCounter = 0               # Total json file that couldn't be processed\n",
        "loadCounter = 0                # Total json file that were processed\n",
        "errorLog = defaultdict(int)    # Variables which were not present\n",
        "\n",
        "data_dict_1 = defaultdict(list)\n",
        "data_dict_2 = defaultdict(list) \n",
        "files =['2021'] ## ['2018','2019','2020','2021','2022'] ## ADD THE YEARS\n",
        "\n",
        "# data = pd.DataFrame({'app_filing_date': {},\n",
        "#  'app_type_category': {},\n",
        "#  'app_business_entity_cat': {},\n",
        "#  'app_FITFI': {},\n",
        "#  'app_status_cat': {},\n",
        "#  'app_status_date': {},\n",
        "#  'app_file_location_cat': {},\n",
        "#  'app_num_value': {},\n",
        "#  'app_num_electronic': {},\n",
        "#  'app_group_art_value': {},\n",
        "#  'app_group_art_electronic': {},\n",
        "#  'examiner_name': {},\n",
        "#  'prosecutionDate': {},\n",
        "#  'prosecutionEventCode': {},\n",
        "#  'prosecutionEventDescription': {}})\n",
        "\n",
        "for file in files:\n",
        "    file_name = file + '.json'\n",
        "    with open(file_name, encoding = \"utf-8\") as f:\n",
        "        for line in f:\n",
        "\n",
        "            ## convert the line into proper json\n",
        "            counter+=1;\n",
        "            try:\n",
        "                if(counter != 1):\n",
        "                    application = json.loads(line[1:-1])\n",
        "                    loadCounter+=1;\n",
        "                else:\n",
        "                    application = json.loads(line[:-1])\n",
        "            except (json.decoder.JSONDecodeError):\n",
        "                print(\"An exception occurred :\", counter)\n",
        "                errorCounter+=1\n",
        "                continue;\n",
        "\n",
        "            ## Read data from json\n",
        "            try:\n",
        "\n",
        "                app_filing_date           = application[\"patentCaseMetadata\"][\"filingDate\"]\n",
        "                app_type_category         = application[\"patentCaseMetadata\"][\"applicationTypeCategory\"]\n",
        "                app_business_entity_cat   = application[\"patentCaseMetadata\"][\"businessEntityStatusCategory\"]\n",
        "                app_FITFI                 = application[\"patentCaseMetadata\"][\"firstInventorToFileIndicator\"]\n",
        "                app_status_cat            = application[\"patentCaseMetadata\"][\"applicationStatusCategory\"]\n",
        "                app_status_date           = application[\"patentCaseMetadata\"][\"applicationStatusDate\"]\n",
        "                app_file_location_cat     = application[\"patentCaseMetadata\"][\"officialFileLocationCategory\"]\n",
        "                app_num_value             = application[\"patentCaseMetadata\"][\"applicationNumberText\"][\"value\"]\n",
        "                app_num_electronic        = application[\"patentCaseMetadata\"][\"applicationNumberText\"][\"electronicText\"]\n",
        "\n",
        "\n",
        "\n",
        "\n",
        "                app_group_art_value       = application[\"patentCaseMetadata\"][\"groupArtUnitNumber\"][\"value\"]\n",
        "                app_group_art_electronic  = application[\"patentCaseMetadata\"][\"groupArtUnitNumber\"][\"electronicText\"]\n",
        "                officialDates, documentCodes, descriptionTexts, documentCategories, pageTotalQuantities = extract_content_resource(application)\n",
        "\n",
        "                examiner_name = extract_examiner_name(application)\n",
        "                prosecutionDate = extract_prosecution_history(application)\n",
        "\n",
        "            except KeyError as e:\n",
        "                errorLog[str(e)] += 1\n",
        "\n",
        "\n",
        "\n",
        "            main_cols = [\"app_filing_date\"\n",
        "                         , \"app_type_category\"\n",
        "                         , \"app_business_entity_cat\"\n",
        "                         , \"app_FITFI\"\n",
        "                         , \"app_status_cat\"\n",
        "                         , \"app_status_date\"\n",
        "                         , \"app_file_location_cat\"\n",
        "                         , \"app_num_value\"\n",
        "                         , \"app_num_electronic\"\n",
        "                         , \"app_group_art_value\"\n",
        "                         , \"app_group_art_electronic\"\n",
        "                         , \"examiner_name\"]\n",
        "\n",
        "            prosecution_cols = [\"prosecutionDate\"]\n",
        "\n",
        "            content_cols = [\"officialDates\"\n",
        "                           , \"documentCodes\"\n",
        "                           , \"descriptionTexts\"\n",
        "                           , \"documentCategories\"\n",
        "                           , \"pageTotalQuantities\"]\n",
        "\n",
        "            for col in main_cols + prosecution_cols:\n",
        "                if(locals()[col] != None):\n",
        "                    data_dict_1[col].append(locals()[col])\n",
        "                else :\n",
        "                    data_dict_1[col].append(np.nan)\n",
        "\n",
        "    #         data = pd.concat([data, pd.DataFrame(data_dict_1)], axis = 0)\n",
        "\n",
        "    #         del data_dict_1\n",
        "    #         data_dict_1 = defaultdict(list)\n",
        "\n",
        "    #         for col in main_cols + content_cols:\n",
        "    #             if(locals()[col] != None):\n",
        "    #                 data_dict_2[col].append(locals()[col])\n",
        "    #             else :\n",
        "    #                 data_dict_2[col].append(np.nan)\n",
        "\n",
        "            if(counter%50000 == 0):\n",
        "\n",
        "                data = pd.DataFrame(data_dict_1)\n",
        "                data = data.explode(\"prosecutionDate\")\n",
        "                data[[\"code\", \"date\", \"desc\"]] = data[\"prosecutionDate\"].to_list()\n",
        "                output_file_name = \"{}_{}.parquet\".format(counter, file)\n",
        "                output_file = os.path.join(output_location, output_file_name)\n",
        "                data.to_parquet(output_file, index = False)\n",
        "                del data_dict_1\n",
        "                data_dict_1 = defaultdict(list)\n",
        "                del data\n",
        "\n",
        "                print(str(counter) + \" A file has been processed\")\n",
        "\n",
        "        data = pd.DataFrame(data_dict_1)\n",
        "        data = data.explode(\"prosecutionDate\")\n",
        "        data[[\"code\", \"date\", \"desc\"]] = data[\"prosecutionDate\"].to_list()\n",
        "        output_file_name = \"{}_{}.parquet\".format(counter, file)\n",
        "        output_file = os.path.join(output_location, output_file_name)\n",
        "        data.to_parquet(output_file, index = False)\n",
        "        del data_dict_1\n",
        "        data_dict_1 = defaultdict(list)\n",
        "        del data\n",
        "\n",
        "        print(str(counter) + \" A file has been processed\")\n",
        "        print(file, counter, loadCounter, errorCounter, errorLog)"
      ]
    },
    {
      "cell_type": "code",
      "execution_count": null,
      "metadata": {
        "id": "doxSbNBp_UXV",
        "outputId": "8a8e6020-ce29-461e-8e7b-ebc683f4dfa3"
      },
      "outputs": [
        {
          "data": {
            "text/plain": [
              "46290"
            ]
          },
          "execution_count": 10,
          "metadata": {},
          "output_type": "execute_result"
        }
      ],
      "source": [
        "counter"
      ]
    },
    {
      "cell_type": "code",
      "execution_count": null,
      "metadata": {
        "id": "drZB007b_UXW"
      },
      "outputs": [],
      "source": [
        "data = pd.DataFrame(data_dict_1)\n",
        "data = data.explode(\"prosecutionDate\")\n",
        "data[[\"code\", \"date\", \"desc\"]] = data[\"prosecutionDate\"].to_list()\n",
        "data.to_csv(str(counter) + \"_\" + file + \"_prosecution_file.csv\")"
      ]
    },
    {
      "cell_type": "code",
      "execution_count": null,
      "metadata": {
        "id": "DqAHzK66_UXX"
      },
      "outputs": [],
      "source": [
        "data = data.explode(\"prosecutionDate\")"
      ]
    },
    {
      "cell_type": "code",
      "execution_count": null,
      "metadata": {
        "id": "wBrApBN-_UXX"
      },
      "outputs": [],
      "source": [
        "data[data.app_num_electronic == '29821669'].to_csv(\"example_data.csv\")"
      ]
    },
    {
      "cell_type": "code",
      "execution_count": null,
      "metadata": {
        "id": "EMlXEnUv_UXY"
      },
      "outputs": [],
      "source": [
        "def process_and_combine_parquet(files, cols, output_location = None):\n",
        "    \n",
        "    \n",
        "    if(output_location == None):\n",
        "        output_location = \"\"\n",
        "    \n",
        "    main_data = pd.DataFrame()\n",
        "    \n",
        "    for file in files:\n",
        "        file_location = os.path.join(output_location, file)\n",
        "        data = pd.read_parquet(file_location)\n",
        "        data = data[cols].drop_duplicates()\n",
        "        \n",
        "        main_data = pd.concat([main_data, data], axis = 0)\n",
        "    \n",
        "    return main_data\n",
        "    "
      ]
    },
    {
      "cell_type": "code",
      "execution_count": null,
      "metadata": {
        "id": "jJUdJRNS_UXY"
      },
      "outputs": [],
      "source": [
        "files = os.listdir(output_location)\n",
        "cols = [\"app_num_value\", \"app_filing_date\", \"app_group_art_value\", \"examiner_name\", 'code', 'date', 'desc']\n",
        "\n",
        "main_data = process_and_combine_parquet(files, cols, output_location)"
      ]
    },
    {
      "cell_type": "code",
      "execution_count": null,
      "metadata": {
        "id": "AhumgTNZ_UXZ",
        "outputId": "265ce694-6a79-4c5a-883d-2b30e6a5698a"
      },
      "outputs": [
        {
          "data": {
            "text/plain": [
              "(91603561, 6)"
            ]
          },
          "execution_count": 5,
          "metadata": {},
          "output_type": "execute_result"
        }
      ],
      "source": [
        "main_data.shape"
      ]
    },
    {
      "cell_type": "code",
      "execution_count": null,
      "metadata": {
        "id": "mSnJP213_UXZ",
        "outputId": "febc45bb-3ea1-4b95-efa1-29e5cfe2f738"
      },
      "outputs": [
        {
          "ename": "ArrowMemoryError",
          "evalue": "realloc of size 2147483648 failed",
          "output_type": "error",
          "traceback": [
            "\u001b[1;31m---------------------------------------------------------------------------\u001b[0m",
            "\u001b[1;31mArrowMemoryError\u001b[0m                          Traceback (most recent call last)",
            "\u001b[1;32m~\\AppData\\Local\\Temp/ipykernel_9100/1504762428.py\u001b[0m in \u001b[0;36m<module>\u001b[1;34m\u001b[0m\n\u001b[1;32m----> 1\u001b[1;33m \u001b[0mmain_data\u001b[0m\u001b[1;33m.\u001b[0m\u001b[0mto_parquet\u001b[0m\u001b[1;33m(\u001b[0m\u001b[0mos\u001b[0m\u001b[1;33m.\u001b[0m\u001b[0mpath\u001b[0m\u001b[1;33m.\u001b[0m\u001b[0mjoin\u001b[0m\u001b[1;33m(\u001b[0m\u001b[0moutput_location\u001b[0m\u001b[1;33m,\u001b[0m \u001b[1;34m\"final_data.parquet\"\u001b[0m\u001b[1;33m)\u001b[0m\u001b[1;33m)\u001b[0m\u001b[1;33m\u001b[0m\u001b[1;33m\u001b[0m\u001b[0m\n\u001b[0m\u001b[0;32m      2\u001b[0m \u001b[1;31m# main_data.to_csv(os.path.join(output_location, \"final_data.csv\"), index = False)\u001b[0m\u001b[1;33m\u001b[0m\u001b[1;33m\u001b[0m\u001b[0m\n",
            "\u001b[1;32m~\\anaconda3\\lib\\site-packages\\pandas\\util\\_decorators.py\u001b[0m in \u001b[0;36mwrapper\u001b[1;34m(*args, **kwargs)\u001b[0m\n\u001b[0;32m    209\u001b[0m                 \u001b[1;32melse\u001b[0m\u001b[1;33m:\u001b[0m\u001b[1;33m\u001b[0m\u001b[1;33m\u001b[0m\u001b[0m\n\u001b[0;32m    210\u001b[0m                     \u001b[0mkwargs\u001b[0m\u001b[1;33m[\u001b[0m\u001b[0mnew_arg_name\u001b[0m\u001b[1;33m]\u001b[0m \u001b[1;33m=\u001b[0m \u001b[0mnew_arg_value\u001b[0m\u001b[1;33m\u001b[0m\u001b[1;33m\u001b[0m\u001b[0m\n\u001b[1;32m--> 211\u001b[1;33m             \u001b[1;32mreturn\u001b[0m \u001b[0mfunc\u001b[0m\u001b[1;33m(\u001b[0m\u001b[1;33m*\u001b[0m\u001b[0margs\u001b[0m\u001b[1;33m,\u001b[0m \u001b[1;33m**\u001b[0m\u001b[0mkwargs\u001b[0m\u001b[1;33m)\u001b[0m\u001b[1;33m\u001b[0m\u001b[1;33m\u001b[0m\u001b[0m\n\u001b[0m\u001b[0;32m    212\u001b[0m \u001b[1;33m\u001b[0m\u001b[0m\n\u001b[0;32m    213\u001b[0m         \u001b[1;32mreturn\u001b[0m \u001b[0mcast\u001b[0m\u001b[1;33m(\u001b[0m\u001b[0mF\u001b[0m\u001b[1;33m,\u001b[0m \u001b[0mwrapper\u001b[0m\u001b[1;33m)\u001b[0m\u001b[1;33m\u001b[0m\u001b[1;33m\u001b[0m\u001b[0m\n",
            "\u001b[1;32m~\\anaconda3\\lib\\site-packages\\pandas\\core\\frame.py\u001b[0m in \u001b[0;36mto_parquet\u001b[1;34m(self, path, engine, compression, index, partition_cols, storage_options, **kwargs)\u001b[0m\n\u001b[0;32m   2974\u001b[0m         \u001b[1;32mfrom\u001b[0m \u001b[0mpandas\u001b[0m\u001b[1;33m.\u001b[0m\u001b[0mio\u001b[0m\u001b[1;33m.\u001b[0m\u001b[0mparquet\u001b[0m \u001b[1;32mimport\u001b[0m \u001b[0mto_parquet\u001b[0m\u001b[1;33m\u001b[0m\u001b[1;33m\u001b[0m\u001b[0m\n\u001b[0;32m   2975\u001b[0m \u001b[1;33m\u001b[0m\u001b[0m\n\u001b[1;32m-> 2976\u001b[1;33m         return to_parquet(\n\u001b[0m\u001b[0;32m   2977\u001b[0m             \u001b[0mself\u001b[0m\u001b[1;33m,\u001b[0m\u001b[1;33m\u001b[0m\u001b[1;33m\u001b[0m\u001b[0m\n\u001b[0;32m   2978\u001b[0m             \u001b[0mpath\u001b[0m\u001b[1;33m,\u001b[0m\u001b[1;33m\u001b[0m\u001b[1;33m\u001b[0m\u001b[0m\n",
            "\u001b[1;32m~\\anaconda3\\lib\\site-packages\\pandas\\io\\parquet.py\u001b[0m in \u001b[0;36mto_parquet\u001b[1;34m(df, path, engine, compression, index, storage_options, partition_cols, **kwargs)\u001b[0m\n\u001b[0;32m    428\u001b[0m     \u001b[0mpath_or_buf\u001b[0m\u001b[1;33m:\u001b[0m \u001b[0mFilePath\u001b[0m \u001b[1;33m|\u001b[0m \u001b[0mWriteBuffer\u001b[0m\u001b[1;33m[\u001b[0m\u001b[0mbytes\u001b[0m\u001b[1;33m]\u001b[0m \u001b[1;33m=\u001b[0m \u001b[0mio\u001b[0m\u001b[1;33m.\u001b[0m\u001b[0mBytesIO\u001b[0m\u001b[1;33m(\u001b[0m\u001b[1;33m)\u001b[0m \u001b[1;32mif\u001b[0m \u001b[0mpath\u001b[0m \u001b[1;32mis\u001b[0m \u001b[1;32mNone\u001b[0m \u001b[1;32melse\u001b[0m \u001b[0mpath\u001b[0m\u001b[1;33m\u001b[0m\u001b[1;33m\u001b[0m\u001b[0m\n\u001b[0;32m    429\u001b[0m \u001b[1;33m\u001b[0m\u001b[0m\n\u001b[1;32m--> 430\u001b[1;33m     impl.write(\n\u001b[0m\u001b[0;32m    431\u001b[0m         \u001b[0mdf\u001b[0m\u001b[1;33m,\u001b[0m\u001b[1;33m\u001b[0m\u001b[1;33m\u001b[0m\u001b[0m\n\u001b[0;32m    432\u001b[0m         \u001b[0mpath_or_buf\u001b[0m\u001b[1;33m,\u001b[0m\u001b[1;33m\u001b[0m\u001b[1;33m\u001b[0m\u001b[0m\n",
            "\u001b[1;32m~\\anaconda3\\lib\\site-packages\\pandas\\io\\parquet.py\u001b[0m in \u001b[0;36mwrite\u001b[1;34m(self, df, path, compression, index, storage_options, partition_cols, **kwargs)\u001b[0m\n\u001b[0;32m    172\u001b[0m             \u001b[0mfrom_pandas_kwargs\u001b[0m\u001b[1;33m[\u001b[0m\u001b[1;34m\"preserve_index\"\u001b[0m\u001b[1;33m]\u001b[0m \u001b[1;33m=\u001b[0m \u001b[0mindex\u001b[0m\u001b[1;33m\u001b[0m\u001b[1;33m\u001b[0m\u001b[0m\n\u001b[0;32m    173\u001b[0m \u001b[1;33m\u001b[0m\u001b[0m\n\u001b[1;32m--> 174\u001b[1;33m         \u001b[0mtable\u001b[0m \u001b[1;33m=\u001b[0m \u001b[0mself\u001b[0m\u001b[1;33m.\u001b[0m\u001b[0mapi\u001b[0m\u001b[1;33m.\u001b[0m\u001b[0mTable\u001b[0m\u001b[1;33m.\u001b[0m\u001b[0mfrom_pandas\u001b[0m\u001b[1;33m(\u001b[0m\u001b[0mdf\u001b[0m\u001b[1;33m,\u001b[0m \u001b[1;33m**\u001b[0m\u001b[0mfrom_pandas_kwargs\u001b[0m\u001b[1;33m)\u001b[0m\u001b[1;33m\u001b[0m\u001b[1;33m\u001b[0m\u001b[0m\n\u001b[0m\u001b[0;32m    175\u001b[0m \u001b[1;33m\u001b[0m\u001b[0m\n\u001b[0;32m    176\u001b[0m         path_or_handle, handles, kwargs[\"filesystem\"] = _get_path_or_handle(\n",
            "\u001b[1;32m~\\anaconda3\\lib\\site-packages\\pyarrow\\table.pxi\u001b[0m in \u001b[0;36mpyarrow.lib.Table.from_pandas\u001b[1;34m()\u001b[0m\n",
            "\u001b[1;32m~\\anaconda3\\lib\\site-packages\\pyarrow\\pandas_compat.py\u001b[0m in \u001b[0;36mdataframe_to_arrays\u001b[1;34m(df, schema, preserve_index, nthreads, columns, safe)\u001b[0m\n\u001b[0;32m    622\u001b[0m         \u001b[1;32mfor\u001b[0m \u001b[0mi\u001b[0m\u001b[1;33m,\u001b[0m \u001b[0mmaybe_fut\u001b[0m \u001b[1;32min\u001b[0m \u001b[0menumerate\u001b[0m\u001b[1;33m(\u001b[0m\u001b[0marrays\u001b[0m\u001b[1;33m)\u001b[0m\u001b[1;33m:\u001b[0m\u001b[1;33m\u001b[0m\u001b[1;33m\u001b[0m\u001b[0m\n\u001b[0;32m    623\u001b[0m             \u001b[1;32mif\u001b[0m \u001b[0misinstance\u001b[0m\u001b[1;33m(\u001b[0m\u001b[0mmaybe_fut\u001b[0m\u001b[1;33m,\u001b[0m \u001b[0mfutures\u001b[0m\u001b[1;33m.\u001b[0m\u001b[0mFuture\u001b[0m\u001b[1;33m)\u001b[0m\u001b[1;33m:\u001b[0m\u001b[1;33m\u001b[0m\u001b[1;33m\u001b[0m\u001b[0m\n\u001b[1;32m--> 624\u001b[1;33m                 \u001b[0marrays\u001b[0m\u001b[1;33m[\u001b[0m\u001b[0mi\u001b[0m\u001b[1;33m]\u001b[0m \u001b[1;33m=\u001b[0m \u001b[0mmaybe_fut\u001b[0m\u001b[1;33m.\u001b[0m\u001b[0mresult\u001b[0m\u001b[1;33m(\u001b[0m\u001b[1;33m)\u001b[0m\u001b[1;33m\u001b[0m\u001b[1;33m\u001b[0m\u001b[0m\n\u001b[0m\u001b[0;32m    625\u001b[0m \u001b[1;33m\u001b[0m\u001b[0m\n\u001b[0;32m    626\u001b[0m     \u001b[0mtypes\u001b[0m \u001b[1;33m=\u001b[0m \u001b[1;33m[\u001b[0m\u001b[0mx\u001b[0m\u001b[1;33m.\u001b[0m\u001b[0mtype\u001b[0m \u001b[1;32mfor\u001b[0m \u001b[0mx\u001b[0m \u001b[1;32min\u001b[0m \u001b[0marrays\u001b[0m\u001b[1;33m]\u001b[0m\u001b[1;33m\u001b[0m\u001b[1;33m\u001b[0m\u001b[0m\n",
            "\u001b[1;32m~\\anaconda3\\lib\\concurrent\\futures\\_base.py\u001b[0m in \u001b[0;36mresult\u001b[1;34m(self, timeout)\u001b[0m\n\u001b[0;32m    436\u001b[0m                     \u001b[1;32mraise\u001b[0m \u001b[0mCancelledError\u001b[0m\u001b[1;33m(\u001b[0m\u001b[1;33m)\u001b[0m\u001b[1;33m\u001b[0m\u001b[1;33m\u001b[0m\u001b[0m\n\u001b[0;32m    437\u001b[0m                 \u001b[1;32melif\u001b[0m \u001b[0mself\u001b[0m\u001b[1;33m.\u001b[0m\u001b[0m_state\u001b[0m \u001b[1;33m==\u001b[0m \u001b[0mFINISHED\u001b[0m\u001b[1;33m:\u001b[0m\u001b[1;33m\u001b[0m\u001b[1;33m\u001b[0m\u001b[0m\n\u001b[1;32m--> 438\u001b[1;33m                     \u001b[1;32mreturn\u001b[0m \u001b[0mself\u001b[0m\u001b[1;33m.\u001b[0m\u001b[0m__get_result\u001b[0m\u001b[1;33m(\u001b[0m\u001b[1;33m)\u001b[0m\u001b[1;33m\u001b[0m\u001b[1;33m\u001b[0m\u001b[0m\n\u001b[0m\u001b[0;32m    439\u001b[0m \u001b[1;33m\u001b[0m\u001b[0m\n\u001b[0;32m    440\u001b[0m                 \u001b[0mself\u001b[0m\u001b[1;33m.\u001b[0m\u001b[0m_condition\u001b[0m\u001b[1;33m.\u001b[0m\u001b[0mwait\u001b[0m\u001b[1;33m(\u001b[0m\u001b[0mtimeout\u001b[0m\u001b[1;33m)\u001b[0m\u001b[1;33m\u001b[0m\u001b[1;33m\u001b[0m\u001b[0m\n",
            "\u001b[1;32m~\\anaconda3\\lib\\concurrent\\futures\\_base.py\u001b[0m in \u001b[0;36m__get_result\u001b[1;34m(self)\u001b[0m\n\u001b[0;32m    388\u001b[0m         \u001b[1;32mif\u001b[0m \u001b[0mself\u001b[0m\u001b[1;33m.\u001b[0m\u001b[0m_exception\u001b[0m\u001b[1;33m:\u001b[0m\u001b[1;33m\u001b[0m\u001b[1;33m\u001b[0m\u001b[0m\n\u001b[0;32m    389\u001b[0m             \u001b[1;32mtry\u001b[0m\u001b[1;33m:\u001b[0m\u001b[1;33m\u001b[0m\u001b[1;33m\u001b[0m\u001b[0m\n\u001b[1;32m--> 390\u001b[1;33m                 \u001b[1;32mraise\u001b[0m \u001b[0mself\u001b[0m\u001b[1;33m.\u001b[0m\u001b[0m_exception\u001b[0m\u001b[1;33m\u001b[0m\u001b[1;33m\u001b[0m\u001b[0m\n\u001b[0m\u001b[0;32m    391\u001b[0m             \u001b[1;32mfinally\u001b[0m\u001b[1;33m:\u001b[0m\u001b[1;33m\u001b[0m\u001b[1;33m\u001b[0m\u001b[0m\n\u001b[0;32m    392\u001b[0m                 \u001b[1;31m# Break a reference cycle with the exception in self._exception\u001b[0m\u001b[1;33m\u001b[0m\u001b[1;33m\u001b[0m\u001b[0m\n",
            "\u001b[1;32m~\\anaconda3\\lib\\concurrent\\futures\\thread.py\u001b[0m in \u001b[0;36mrun\u001b[1;34m(self)\u001b[0m\n\u001b[0;32m     50\u001b[0m \u001b[1;33m\u001b[0m\u001b[0m\n\u001b[0;32m     51\u001b[0m         \u001b[1;32mtry\u001b[0m\u001b[1;33m:\u001b[0m\u001b[1;33m\u001b[0m\u001b[1;33m\u001b[0m\u001b[0m\n\u001b[1;32m---> 52\u001b[1;33m             \u001b[0mresult\u001b[0m \u001b[1;33m=\u001b[0m \u001b[0mself\u001b[0m\u001b[1;33m.\u001b[0m\u001b[0mfn\u001b[0m\u001b[1;33m(\u001b[0m\u001b[1;33m*\u001b[0m\u001b[0mself\u001b[0m\u001b[1;33m.\u001b[0m\u001b[0margs\u001b[0m\u001b[1;33m,\u001b[0m \u001b[1;33m**\u001b[0m\u001b[0mself\u001b[0m\u001b[1;33m.\u001b[0m\u001b[0mkwargs\u001b[0m\u001b[1;33m)\u001b[0m\u001b[1;33m\u001b[0m\u001b[1;33m\u001b[0m\u001b[0m\n\u001b[0m\u001b[0;32m     53\u001b[0m         \u001b[1;32mexcept\u001b[0m \u001b[0mBaseException\u001b[0m \u001b[1;32mas\u001b[0m \u001b[0mexc\u001b[0m\u001b[1;33m:\u001b[0m\u001b[1;33m\u001b[0m\u001b[1;33m\u001b[0m\u001b[0m\n\u001b[0;32m     54\u001b[0m             \u001b[0mself\u001b[0m\u001b[1;33m.\u001b[0m\u001b[0mfuture\u001b[0m\u001b[1;33m.\u001b[0m\u001b[0mset_exception\u001b[0m\u001b[1;33m(\u001b[0m\u001b[0mexc\u001b[0m\u001b[1;33m)\u001b[0m\u001b[1;33m\u001b[0m\u001b[1;33m\u001b[0m\u001b[0m\n",
            "\u001b[1;32m~\\anaconda3\\lib\\site-packages\\pyarrow\\pandas_compat.py\u001b[0m in \u001b[0;36mconvert_column\u001b[1;34m(col, field)\u001b[0m\n\u001b[0;32m    590\u001b[0m \u001b[1;33m\u001b[0m\u001b[0m\n\u001b[0;32m    591\u001b[0m         \u001b[1;32mtry\u001b[0m\u001b[1;33m:\u001b[0m\u001b[1;33m\u001b[0m\u001b[1;33m\u001b[0m\u001b[0m\n\u001b[1;32m--> 592\u001b[1;33m             \u001b[0mresult\u001b[0m \u001b[1;33m=\u001b[0m \u001b[0mpa\u001b[0m\u001b[1;33m.\u001b[0m\u001b[0marray\u001b[0m\u001b[1;33m(\u001b[0m\u001b[0mcol\u001b[0m\u001b[1;33m,\u001b[0m \u001b[0mtype\u001b[0m\u001b[1;33m=\u001b[0m\u001b[0mtype_\u001b[0m\u001b[1;33m,\u001b[0m \u001b[0mfrom_pandas\u001b[0m\u001b[1;33m=\u001b[0m\u001b[1;32mTrue\u001b[0m\u001b[1;33m,\u001b[0m \u001b[0msafe\u001b[0m\u001b[1;33m=\u001b[0m\u001b[0msafe\u001b[0m\u001b[1;33m)\u001b[0m\u001b[1;33m\u001b[0m\u001b[1;33m\u001b[0m\u001b[0m\n\u001b[0m\u001b[0;32m    593\u001b[0m         except (pa.ArrowInvalid,\n\u001b[0;32m    594\u001b[0m                 \u001b[0mpa\u001b[0m\u001b[1;33m.\u001b[0m\u001b[0mArrowNotImplementedError\u001b[0m\u001b[1;33m,\u001b[0m\u001b[1;33m\u001b[0m\u001b[1;33m\u001b[0m\u001b[0m\n",
            "\u001b[1;32m~\\anaconda3\\lib\\site-packages\\pyarrow\\array.pxi\u001b[0m in \u001b[0;36mpyarrow.lib.array\u001b[1;34m()\u001b[0m\n",
            "\u001b[1;32m~\\anaconda3\\lib\\site-packages\\pyarrow\\array.pxi\u001b[0m in \u001b[0;36mpyarrow.lib._ndarray_to_array\u001b[1;34m()\u001b[0m\n",
            "\u001b[1;32m~\\anaconda3\\lib\\site-packages\\pyarrow\\error.pxi\u001b[0m in \u001b[0;36mpyarrow.lib.check_status\u001b[1;34m()\u001b[0m\n",
            "\u001b[1;31mArrowMemoryError\u001b[0m: realloc of size 2147483648 failed"
          ]
        }
      ],
      "source": [
        "main_data.to_parquet(os.path.join(output_location, \"final_data.parquet\"))\n",
        "# main_data.to_csv(os.path.join(output_location, \"final_data.csv\"), index = False)"
      ]
    },
    {
      "cell_type": "code",
      "execution_count": null,
      "metadata": {
        "id": "EX6SPKFI_UXZ",
        "outputId": "d77afc40-dfab-4b70-fb5c-0c274ef5a069"
      },
      "outputs": [
        {
          "data": {
            "text/plain": [
              "{'app_filing_date': {},\n",
              " 'app_type_category': {},\n",
              " 'app_business_entity_cat': {},\n",
              " 'app_FITFI': {},\n",
              " 'app_status_cat': {},\n",
              " 'app_status_date': {},\n",
              " 'app_file_location_cat': {},\n",
              " 'app_num_value': {},\n",
              " 'app_num_electronic': {},\n",
              " 'app_group_art_value': {},\n",
              " 'app_group_art_electronic': {},\n",
              " 'examiner_name': {},\n",
              " 'prosecutionDate': {},\n",
              " 'prosecutionEventCode': {},\n",
              " 'prosecutionEventDescription': {}}"
            ]
          },
          "execution_count": 401,
          "metadata": {},
          "output_type": "execute_result"
        }
      ],
      "source": [
        "data_1.head(0).to_dict()"
      ]
    },
    {
      "cell_type": "code",
      "execution_count": null,
      "metadata": {
        "id": "Z8h3PWe-_UXa",
        "outputId": "1ee0d653-ef80-49be-bd5d-b32054b89463"
      },
      "outputs": [
        {
          "data": {
            "text/html": [
              "<div>\n",
              "<style scoped>\n",
              "    .dataframe tbody tr th:only-of-type {\n",
              "        vertical-align: middle;\n",
              "    }\n",
              "\n",
              "    .dataframe tbody tr th {\n",
              "        vertical-align: top;\n",
              "    }\n",
              "\n",
              "    .dataframe thead th {\n",
              "        text-align: right;\n",
              "    }\n",
              "</style>\n",
              "<table border=\"1\" class=\"dataframe\">\n",
              "  <thead>\n",
              "    <tr style=\"text-align: right;\">\n",
              "      <th></th>\n",
              "      <th>app_filing_date</th>\n",
              "      <th>app_type_category</th>\n",
              "      <th>app_business_entity_cat</th>\n",
              "      <th>app_FITFI</th>\n",
              "      <th>app_status_cat</th>\n",
              "      <th>app_status_date</th>\n",
              "      <th>app_file_location_cat</th>\n",
              "      <th>app_num_value</th>\n",
              "      <th>app_num_electronic</th>\n",
              "      <th>app_group_art_value</th>\n",
              "      <th>app_group_art_electronic</th>\n",
              "      <th>examiner_name</th>\n",
              "      <th>prosecutionDate</th>\n",
              "      <th>prosecutionEventCode</th>\n",
              "      <th>prosecutionEventDescription</th>\n",
              "    </tr>\n",
              "  </thead>\n",
              "  <tbody>\n",
              "    <tr>\n",
              "      <th>0</th>\n",
              "      <td>2021-11-15</td>\n",
              "      <td>Utility</td>\n",
              "      <td>SMALL</td>\n",
              "      <td>true</td>\n",
              "      <td>Docketed New Case - Ready for Examination</td>\n",
              "      <td>2022-02-08</td>\n",
              "      <td>ELECTRONIC</td>\n",
              "      <td>17526655</td>\n",
              "      <td>17526655</td>\n",
              "      <td>OPAP</td>\n",
              "      <td>OPAP</td>\n",
              "      <td>CENTRAL, DOCKET</td>\n",
              "      <td>2022-08-22</td>\n",
              "      <td>[EML_NTR, PA.., EML_NTR, CCRDY, PG-ISSUE, M844...</td>\n",
              "      <td>[Email Notification, Change in Power of Attorn...</td>\n",
              "    </tr>\n",
              "    <tr>\n",
              "      <th>0</th>\n",
              "      <td>2021-11-15</td>\n",
              "      <td>Utility</td>\n",
              "      <td>SMALL</td>\n",
              "      <td>true</td>\n",
              "      <td>Docketed New Case - Ready for Examination</td>\n",
              "      <td>2022-02-08</td>\n",
              "      <td>ELECTRONIC</td>\n",
              "      <td>17526655</td>\n",
              "      <td>17526655</td>\n",
              "      <td>OPAP</td>\n",
              "      <td>OPAP</td>\n",
              "      <td>CENTRAL, DOCKET</td>\n",
              "      <td>2022-08-22</td>\n",
              "      <td>[EML_NTR, PA.., EML_NTR, CCRDY, PG-ISSUE, M844...</td>\n",
              "      <td>[Email Notification, Change in Power of Attorn...</td>\n",
              "    </tr>\n",
              "    <tr>\n",
              "      <th>0</th>\n",
              "      <td>2021-11-15</td>\n",
              "      <td>Utility</td>\n",
              "      <td>SMALL</td>\n",
              "      <td>true</td>\n",
              "      <td>Docketed New Case - Ready for Examination</td>\n",
              "      <td>2022-02-08</td>\n",
              "      <td>ELECTRONIC</td>\n",
              "      <td>17526655</td>\n",
              "      <td>17526655</td>\n",
              "      <td>OPAP</td>\n",
              "      <td>OPAP</td>\n",
              "      <td>CENTRAL, DOCKET</td>\n",
              "      <td>2022-05-20</td>\n",
              "      <td>[EML_NTR, PA.., EML_NTR, CCRDY, PG-ISSUE, M844...</td>\n",
              "      <td>[Email Notification, Change in Power of Attorn...</td>\n",
              "    </tr>\n",
              "    <tr>\n",
              "      <th>0</th>\n",
              "      <td>2021-11-15</td>\n",
              "      <td>Utility</td>\n",
              "      <td>SMALL</td>\n",
              "      <td>true</td>\n",
              "      <td>Docketed New Case - Ready for Examination</td>\n",
              "      <td>2022-02-08</td>\n",
              "      <td>ELECTRONIC</td>\n",
              "      <td>17526655</td>\n",
              "      <td>17526655</td>\n",
              "      <td>OPAP</td>\n",
              "      <td>OPAP</td>\n",
              "      <td>CENTRAL, DOCKET</td>\n",
              "      <td>2022-05-19</td>\n",
              "      <td>[EML_NTR, PA.., EML_NTR, CCRDY, PG-ISSUE, M844...</td>\n",
              "      <td>[Email Notification, Change in Power of Attorn...</td>\n",
              "    </tr>\n",
              "    <tr>\n",
              "      <th>0</th>\n",
              "      <td>2021-11-15</td>\n",
              "      <td>Utility</td>\n",
              "      <td>SMALL</td>\n",
              "      <td>true</td>\n",
              "      <td>Docketed New Case - Ready for Examination</td>\n",
              "      <td>2022-02-08</td>\n",
              "      <td>ELECTRONIC</td>\n",
              "      <td>17526655</td>\n",
              "      <td>17526655</td>\n",
              "      <td>OPAP</td>\n",
              "      <td>OPAP</td>\n",
              "      <td>CENTRAL, DOCKET</td>\n",
              "      <td>2022-05-19</td>\n",
              "      <td>[EML_NTR, PA.., EML_NTR, CCRDY, PG-ISSUE, M844...</td>\n",
              "      <td>[Email Notification, Change in Power of Attorn...</td>\n",
              "    </tr>\n",
              "    <tr>\n",
              "      <th>...</th>\n",
              "      <td>...</td>\n",
              "      <td>...</td>\n",
              "      <td>...</td>\n",
              "      <td>...</td>\n",
              "      <td>...</td>\n",
              "      <td>...</td>\n",
              "      <td>...</td>\n",
              "      <td>...</td>\n",
              "      <td>...</td>\n",
              "      <td>...</td>\n",
              "      <td>...</td>\n",
              "      <td>...</td>\n",
              "      <td>...</td>\n",
              "      <td>...</td>\n",
              "      <td>...</td>\n",
              "    </tr>\n",
              "    <tr>\n",
              "      <th>48887</th>\n",
              "      <td>2021-12-31</td>\n",
              "      <td>Provisional</td>\n",
              "      <td>UNDISCOUNTED</td>\n",
              "      <td>Other</td>\n",
              "      <td>Patented Case</td>\n",
              "      <td>2022-09-21</td>\n",
              "      <td>ELECTRONIC</td>\n",
              "      <td>29821669</td>\n",
              "      <td>29821669</td>\n",
              "      <td>2915</td>\n",
              "      <td>2915</td>\n",
              "      <td>PHILIPPS, MARK T</td>\n",
              "      <td>2021-12-31</td>\n",
              "      <td>[PGM/, EML_NTR, WPIR, D1935, PILS, N084, IFEE,...</td>\n",
              "      <td>[Recordation of Patent Grant Mailed, Email Not...</td>\n",
              "    </tr>\n",
              "    <tr>\n",
              "      <th>48887</th>\n",
              "      <td>2021-12-31</td>\n",
              "      <td>Provisional</td>\n",
              "      <td>UNDISCOUNTED</td>\n",
              "      <td>Other</td>\n",
              "      <td>Patented Case</td>\n",
              "      <td>2022-09-21</td>\n",
              "      <td>ELECTRONIC</td>\n",
              "      <td>29821669</td>\n",
              "      <td>29821669</td>\n",
              "      <td>2915</td>\n",
              "      <td>2915</td>\n",
              "      <td>PHILIPPS, MARK T</td>\n",
              "      <td>2021-12-31</td>\n",
              "      <td>[PGM/, EML_NTR, WPIR, D1935, PILS, N084, IFEE,...</td>\n",
              "      <td>[Recordation of Patent Grant Mailed, Email Not...</td>\n",
              "    </tr>\n",
              "    <tr>\n",
              "      <th>48887</th>\n",
              "      <td>2021-12-31</td>\n",
              "      <td>Provisional</td>\n",
              "      <td>UNDISCOUNTED</td>\n",
              "      <td>Other</td>\n",
              "      <td>Patented Case</td>\n",
              "      <td>2022-09-21</td>\n",
              "      <td>ELECTRONIC</td>\n",
              "      <td>29821669</td>\n",
              "      <td>29821669</td>\n",
              "      <td>2915</td>\n",
              "      <td>2915</td>\n",
              "      <td>PHILIPPS, MARK T</td>\n",
              "      <td>2022-01-03</td>\n",
              "      <td>[PGM/, EML_NTR, WPIR, D1935, PILS, N084, IFEE,...</td>\n",
              "      <td>[Recordation of Patent Grant Mailed, Email Not...</td>\n",
              "    </tr>\n",
              "    <tr>\n",
              "      <th>48887</th>\n",
              "      <td>2021-12-31</td>\n",
              "      <td>Provisional</td>\n",
              "      <td>UNDISCOUNTED</td>\n",
              "      <td>Other</td>\n",
              "      <td>Patented Case</td>\n",
              "      <td>2022-09-21</td>\n",
              "      <td>ELECTRONIC</td>\n",
              "      <td>29821669</td>\n",
              "      <td>29821669</td>\n",
              "      <td>2915</td>\n",
              "      <td>2915</td>\n",
              "      <td>PHILIPPS, MARK T</td>\n",
              "      <td>2021-12-31</td>\n",
              "      <td>[PGM/, EML_NTR, WPIR, D1935, PILS, N084, IFEE,...</td>\n",
              "      <td>[Recordation of Patent Grant Mailed, Email Not...</td>\n",
              "    </tr>\n",
              "    <tr>\n",
              "      <th>48887</th>\n",
              "      <td>2021-12-31</td>\n",
              "      <td>Provisional</td>\n",
              "      <td>UNDISCOUNTED</td>\n",
              "      <td>Other</td>\n",
              "      <td>Patented Case</td>\n",
              "      <td>2022-09-21</td>\n",
              "      <td>ELECTRONIC</td>\n",
              "      <td>29821669</td>\n",
              "      <td>29821669</td>\n",
              "      <td>2915</td>\n",
              "      <td>2915</td>\n",
              "      <td>PHILIPPS, MARK T</td>\n",
              "      <td>2021-12-31</td>\n",
              "      <td>[PGM/, EML_NTR, WPIR, D1935, PILS, N084, IFEE,...</td>\n",
              "      <td>[Recordation of Patent Grant Mailed, Email Not...</td>\n",
              "    </tr>\n",
              "  </tbody>\n",
              "</table>\n",
              "<p>1241618 rows × 15 columns</p>\n",
              "</div>"
            ],
            "text/plain": [
              "      app_filing_date app_type_category app_business_entity_cat app_FITFI  \\\n",
              "0          2021-11-15           Utility                   SMALL      true   \n",
              "0          2021-11-15           Utility                   SMALL      true   \n",
              "0          2021-11-15           Utility                   SMALL      true   \n",
              "0          2021-11-15           Utility                   SMALL      true   \n",
              "0          2021-11-15           Utility                   SMALL      true   \n",
              "...               ...               ...                     ...       ...   \n",
              "48887      2021-12-31       Provisional            UNDISCOUNTED     Other   \n",
              "48887      2021-12-31       Provisional            UNDISCOUNTED     Other   \n",
              "48887      2021-12-31       Provisional            UNDISCOUNTED     Other   \n",
              "48887      2021-12-31       Provisional            UNDISCOUNTED     Other   \n",
              "48887      2021-12-31       Provisional            UNDISCOUNTED     Other   \n",
              "\n",
              "                                  app_status_cat app_status_date  \\\n",
              "0      Docketed New Case - Ready for Examination      2022-02-08   \n",
              "0      Docketed New Case - Ready for Examination      2022-02-08   \n",
              "0      Docketed New Case - Ready for Examination      2022-02-08   \n",
              "0      Docketed New Case - Ready for Examination      2022-02-08   \n",
              "0      Docketed New Case - Ready for Examination      2022-02-08   \n",
              "...                                          ...             ...   \n",
              "48887                              Patented Case      2022-09-21   \n",
              "48887                              Patented Case      2022-09-21   \n",
              "48887                              Patented Case      2022-09-21   \n",
              "48887                              Patented Case      2022-09-21   \n",
              "48887                              Patented Case      2022-09-21   \n",
              "\n",
              "      app_file_location_cat app_num_value app_num_electronic  \\\n",
              "0                ELECTRONIC      17526655           17526655   \n",
              "0                ELECTRONIC      17526655           17526655   \n",
              "0                ELECTRONIC      17526655           17526655   \n",
              "0                ELECTRONIC      17526655           17526655   \n",
              "0                ELECTRONIC      17526655           17526655   \n",
              "...                     ...           ...                ...   \n",
              "48887            ELECTRONIC      29821669           29821669   \n",
              "48887            ELECTRONIC      29821669           29821669   \n",
              "48887            ELECTRONIC      29821669           29821669   \n",
              "48887            ELECTRONIC      29821669           29821669   \n",
              "48887            ELECTRONIC      29821669           29821669   \n",
              "\n",
              "      app_group_art_value app_group_art_electronic     examiner_name  \\\n",
              "0                    OPAP                     OPAP   CENTRAL, DOCKET   \n",
              "0                    OPAP                     OPAP   CENTRAL, DOCKET   \n",
              "0                    OPAP                     OPAP   CENTRAL, DOCKET   \n",
              "0                    OPAP                     OPAP   CENTRAL, DOCKET   \n",
              "0                    OPAP                     OPAP   CENTRAL, DOCKET   \n",
              "...                   ...                      ...               ...   \n",
              "48887                2915                     2915  PHILIPPS, MARK T   \n",
              "48887                2915                     2915  PHILIPPS, MARK T   \n",
              "48887                2915                     2915  PHILIPPS, MARK T   \n",
              "48887                2915                     2915  PHILIPPS, MARK T   \n",
              "48887                2915                     2915  PHILIPPS, MARK T   \n",
              "\n",
              "      prosecutionDate                               prosecutionEventCode  \\\n",
              "0          2022-08-22  [EML_NTR, PA.., EML_NTR, CCRDY, PG-ISSUE, M844...   \n",
              "0          2022-08-22  [EML_NTR, PA.., EML_NTR, CCRDY, PG-ISSUE, M844...   \n",
              "0          2022-05-20  [EML_NTR, PA.., EML_NTR, CCRDY, PG-ISSUE, M844...   \n",
              "0          2022-05-19  [EML_NTR, PA.., EML_NTR, CCRDY, PG-ISSUE, M844...   \n",
              "0          2022-05-19  [EML_NTR, PA.., EML_NTR, CCRDY, PG-ISSUE, M844...   \n",
              "...               ...                                                ...   \n",
              "48887      2021-12-31  [PGM/, EML_NTR, WPIR, D1935, PILS, N084, IFEE,...   \n",
              "48887      2021-12-31  [PGM/, EML_NTR, WPIR, D1935, PILS, N084, IFEE,...   \n",
              "48887      2022-01-03  [PGM/, EML_NTR, WPIR, D1935, PILS, N084, IFEE,...   \n",
              "48887      2021-12-31  [PGM/, EML_NTR, WPIR, D1935, PILS, N084, IFEE,...   \n",
              "48887      2021-12-31  [PGM/, EML_NTR, WPIR, D1935, PILS, N084, IFEE,...   \n",
              "\n",
              "                             prosecutionEventDescription  \n",
              "0      [Email Notification, Change in Power of Attorn...  \n",
              "0      [Email Notification, Change in Power of Attorn...  \n",
              "0      [Email Notification, Change in Power of Attorn...  \n",
              "0      [Email Notification, Change in Power of Attorn...  \n",
              "0      [Email Notification, Change in Power of Attorn...  \n",
              "...                                                  ...  \n",
              "48887  [Recordation of Patent Grant Mailed, Email Not...  \n",
              "48887  [Recordation of Patent Grant Mailed, Email Not...  \n",
              "48887  [Recordation of Patent Grant Mailed, Email Not...  \n",
              "48887  [Recordation of Patent Grant Mailed, Email Not...  \n",
              "48887  [Recordation of Patent Grant Mailed, Email Not...  \n",
              "\n",
              "[1241618 rows x 15 columns]"
            ]
          },
          "execution_count": 398,
          "metadata": {},
          "output_type": "execute_result"
        }
      ],
      "source": [
        "data_1.explode(\"prosecutionDate\")"
      ]
    },
    {
      "cell_type": "code",
      "execution_count": null,
      "metadata": {
        "id": "fAbfBAji_UXa"
      },
      "outputs": [],
      "source": []
    },
    {
      "cell_type": "code",
      "execution_count": null,
      "metadata": {
        "id": "209gAY9j_UXa"
      },
      "outputs": [],
      "source": []
    },
    {
      "cell_type": "code",
      "execution_count": null,
      "metadata": {
        "id": "an_OFhu4_UXa"
      },
      "outputs": [],
      "source": [
        "data = pd.read_csv(\"400000_2021_prosecution_file.csv\")"
      ]
    },
    {
      "cell_type": "code",
      "execution_count": null,
      "metadata": {
        "id": "lyILjnpO_UXb",
        "outputId": "37e14235-4880-4f99-8012-6bf64a11fe0e"
      },
      "outputs": [
        {
          "ename": "TypeError",
          "evalue": "dtype '<class 'list'>' not understood",
          "output_type": "error",
          "traceback": [
            "\u001b[1;31m---------------------------------------------------------------------------\u001b[0m",
            "\u001b[1;31mTypeError\u001b[0m                                 Traceback (most recent call last)",
            "\u001b[1;32m<ipython-input-393-f1095b6f9250>\u001b[0m in \u001b[0;36m<module>\u001b[1;34m\u001b[0m\n\u001b[1;32m----> 1\u001b[1;33m \u001b[0mdata\u001b[0m\u001b[1;33m[\u001b[0m\u001b[1;34m\"prosecutionEventCode\"\u001b[0m\u001b[1;33m]\u001b[0m\u001b[1;33m.\u001b[0m\u001b[0mastype\u001b[0m\u001b[1;33m(\u001b[0m\u001b[0mlist\u001b[0m\u001b[1;33m)\u001b[0m\u001b[1;33m\u001b[0m\u001b[1;33m\u001b[0m\u001b[0m\n\u001b[0m",
            "\u001b[1;32mC:\\Program Files (x86)\\Microsoft Visual Studio\\Shared\\Anaconda3_64\\lib\\site-packages\\pandas\\core\\generic.py\u001b[0m in \u001b[0;36mastype\u001b[1;34m(self, dtype, copy, errors)\u001b[0m\n\u001b[0;32m   5546\u001b[0m         \u001b[1;32melse\u001b[0m\u001b[1;33m:\u001b[0m\u001b[1;33m\u001b[0m\u001b[1;33m\u001b[0m\u001b[0m\n\u001b[0;32m   5547\u001b[0m             \u001b[1;31m# else, only a single dtype is given\u001b[0m\u001b[1;33m\u001b[0m\u001b[1;33m\u001b[0m\u001b[1;33m\u001b[0m\u001b[0m\n\u001b[1;32m-> 5548\u001b[1;33m             \u001b[0mnew_data\u001b[0m \u001b[1;33m=\u001b[0m \u001b[0mself\u001b[0m\u001b[1;33m.\u001b[0m\u001b[0m_mgr\u001b[0m\u001b[1;33m.\u001b[0m\u001b[0mastype\u001b[0m\u001b[1;33m(\u001b[0m\u001b[0mdtype\u001b[0m\u001b[1;33m=\u001b[0m\u001b[0mdtype\u001b[0m\u001b[1;33m,\u001b[0m \u001b[0mcopy\u001b[0m\u001b[1;33m=\u001b[0m\u001b[0mcopy\u001b[0m\u001b[1;33m,\u001b[0m \u001b[0merrors\u001b[0m\u001b[1;33m=\u001b[0m\u001b[0merrors\u001b[0m\u001b[1;33m,\u001b[0m\u001b[1;33m)\u001b[0m\u001b[1;33m\u001b[0m\u001b[1;33m\u001b[0m\u001b[0m\n\u001b[0m\u001b[0;32m   5549\u001b[0m             \u001b[1;32mreturn\u001b[0m \u001b[0mself\u001b[0m\u001b[1;33m.\u001b[0m\u001b[0m_constructor\u001b[0m\u001b[1;33m(\u001b[0m\u001b[0mnew_data\u001b[0m\u001b[1;33m)\u001b[0m\u001b[1;33m.\u001b[0m\u001b[0m__finalize__\u001b[0m\u001b[1;33m(\u001b[0m\u001b[0mself\u001b[0m\u001b[1;33m,\u001b[0m \u001b[0mmethod\u001b[0m\u001b[1;33m=\u001b[0m\u001b[1;34m\"astype\"\u001b[0m\u001b[1;33m)\u001b[0m\u001b[1;33m\u001b[0m\u001b[1;33m\u001b[0m\u001b[0m\n\u001b[0;32m   5550\u001b[0m \u001b[1;33m\u001b[0m\u001b[0m\n",
            "\u001b[1;32mC:\\Program Files (x86)\\Microsoft Visual Studio\\Shared\\Anaconda3_64\\lib\\site-packages\\pandas\\core\\internals\\managers.py\u001b[0m in \u001b[0;36mastype\u001b[1;34m(self, dtype, copy, errors)\u001b[0m\n\u001b[0;32m    602\u001b[0m         \u001b[0mself\u001b[0m\u001b[1;33m,\u001b[0m \u001b[0mdtype\u001b[0m\u001b[1;33m,\u001b[0m \u001b[0mcopy\u001b[0m\u001b[1;33m:\u001b[0m \u001b[0mbool\u001b[0m \u001b[1;33m=\u001b[0m \u001b[1;32mFalse\u001b[0m\u001b[1;33m,\u001b[0m \u001b[0merrors\u001b[0m\u001b[1;33m:\u001b[0m \u001b[0mstr\u001b[0m \u001b[1;33m=\u001b[0m \u001b[1;34m\"raise\"\u001b[0m\u001b[1;33m\u001b[0m\u001b[1;33m\u001b[0m\u001b[0m\n\u001b[0;32m    603\u001b[0m     ) -> \"BlockManager\":\n\u001b[1;32m--> 604\u001b[1;33m         \u001b[1;32mreturn\u001b[0m \u001b[0mself\u001b[0m\u001b[1;33m.\u001b[0m\u001b[0mapply\u001b[0m\u001b[1;33m(\u001b[0m\u001b[1;34m\"astype\"\u001b[0m\u001b[1;33m,\u001b[0m \u001b[0mdtype\u001b[0m\u001b[1;33m=\u001b[0m\u001b[0mdtype\u001b[0m\u001b[1;33m,\u001b[0m \u001b[0mcopy\u001b[0m\u001b[1;33m=\u001b[0m\u001b[0mcopy\u001b[0m\u001b[1;33m,\u001b[0m \u001b[0merrors\u001b[0m\u001b[1;33m=\u001b[0m\u001b[0merrors\u001b[0m\u001b[1;33m)\u001b[0m\u001b[1;33m\u001b[0m\u001b[1;33m\u001b[0m\u001b[0m\n\u001b[0m\u001b[0;32m    605\u001b[0m \u001b[1;33m\u001b[0m\u001b[0m\n\u001b[0;32m    606\u001b[0m     def convert(\n",
            "\u001b[1;32mC:\\Program Files (x86)\\Microsoft Visual Studio\\Shared\\Anaconda3_64\\lib\\site-packages\\pandas\\core\\internals\\managers.py\u001b[0m in \u001b[0;36mapply\u001b[1;34m(self, f, align_keys, **kwargs)\u001b[0m\n\u001b[0;32m    407\u001b[0m                 \u001b[0mapplied\u001b[0m \u001b[1;33m=\u001b[0m \u001b[0mb\u001b[0m\u001b[1;33m.\u001b[0m\u001b[0mapply\u001b[0m\u001b[1;33m(\u001b[0m\u001b[0mf\u001b[0m\u001b[1;33m,\u001b[0m \u001b[1;33m**\u001b[0m\u001b[0mkwargs\u001b[0m\u001b[1;33m)\u001b[0m\u001b[1;33m\u001b[0m\u001b[1;33m\u001b[0m\u001b[0m\n\u001b[0;32m    408\u001b[0m             \u001b[1;32melse\u001b[0m\u001b[1;33m:\u001b[0m\u001b[1;33m\u001b[0m\u001b[1;33m\u001b[0m\u001b[0m\n\u001b[1;32m--> 409\u001b[1;33m                 \u001b[0mapplied\u001b[0m \u001b[1;33m=\u001b[0m \u001b[0mgetattr\u001b[0m\u001b[1;33m(\u001b[0m\u001b[0mb\u001b[0m\u001b[1;33m,\u001b[0m \u001b[0mf\u001b[0m\u001b[1;33m)\u001b[0m\u001b[1;33m(\u001b[0m\u001b[1;33m**\u001b[0m\u001b[0mkwargs\u001b[0m\u001b[1;33m)\u001b[0m\u001b[1;33m\u001b[0m\u001b[1;33m\u001b[0m\u001b[0m\n\u001b[0m\u001b[0;32m    410\u001b[0m             \u001b[0mresult_blocks\u001b[0m \u001b[1;33m=\u001b[0m \u001b[0m_extend_blocks\u001b[0m\u001b[1;33m(\u001b[0m\u001b[0mapplied\u001b[0m\u001b[1;33m,\u001b[0m \u001b[0mresult_blocks\u001b[0m\u001b[1;33m)\u001b[0m\u001b[1;33m\u001b[0m\u001b[1;33m\u001b[0m\u001b[0m\n\u001b[0;32m    411\u001b[0m \u001b[1;33m\u001b[0m\u001b[0m\n",
            "\u001b[1;32mC:\\Program Files (x86)\\Microsoft Visual Studio\\Shared\\Anaconda3_64\\lib\\site-packages\\pandas\\core\\internals\\blocks.py\u001b[0m in \u001b[0;36mastype\u001b[1;34m(self, dtype, copy, errors)\u001b[0m\n\u001b[0;32m    546\u001b[0m \u001b[1;33m\u001b[0m\u001b[0m\n\u001b[0;32m    547\u001b[0m         \u001b[1;32mif\u001b[0m \u001b[0mdtype\u001b[0m \u001b[1;32mis\u001b[0m \u001b[1;32mnot\u001b[0m \u001b[1;32mNone\u001b[0m\u001b[1;33m:\u001b[0m\u001b[1;33m\u001b[0m\u001b[1;33m\u001b[0m\u001b[0m\n\u001b[1;32m--> 548\u001b[1;33m             \u001b[0mdtype\u001b[0m \u001b[1;33m=\u001b[0m \u001b[0mpandas_dtype\u001b[0m\u001b[1;33m(\u001b[0m\u001b[0mdtype\u001b[0m\u001b[1;33m)\u001b[0m\u001b[1;33m\u001b[0m\u001b[1;33m\u001b[0m\u001b[0m\n\u001b[0m\u001b[0;32m    549\u001b[0m \u001b[1;33m\u001b[0m\u001b[0m\n\u001b[0;32m    550\u001b[0m         \u001b[1;31m# may need to convert to categorical\u001b[0m\u001b[1;33m\u001b[0m\u001b[1;33m\u001b[0m\u001b[1;33m\u001b[0m\u001b[0m\n",
            "\u001b[1;32mC:\\Program Files (x86)\\Microsoft Visual Studio\\Shared\\Anaconda3_64\\lib\\site-packages\\pandas\\core\\dtypes\\common.py\u001b[0m in \u001b[0;36mpandas_dtype\u001b[1;34m(dtype)\u001b[0m\n\u001b[0;32m   1776\u001b[0m         \u001b[1;32mreturn\u001b[0m \u001b[0mnpdtype\u001b[0m\u001b[1;33m\u001b[0m\u001b[1;33m\u001b[0m\u001b[0m\n\u001b[0;32m   1777\u001b[0m     \u001b[1;32melif\u001b[0m \u001b[0mnpdtype\u001b[0m\u001b[1;33m.\u001b[0m\u001b[0mkind\u001b[0m \u001b[1;33m==\u001b[0m \u001b[1;34m\"O\"\u001b[0m\u001b[1;33m:\u001b[0m\u001b[1;33m\u001b[0m\u001b[1;33m\u001b[0m\u001b[0m\n\u001b[1;32m-> 1778\u001b[1;33m         \u001b[1;32mraise\u001b[0m \u001b[0mTypeError\u001b[0m\u001b[1;33m(\u001b[0m\u001b[1;34mf\"dtype '{dtype}' not understood\"\u001b[0m\u001b[1;33m)\u001b[0m\u001b[1;33m\u001b[0m\u001b[1;33m\u001b[0m\u001b[0m\n\u001b[0m\u001b[0;32m   1779\u001b[0m \u001b[1;33m\u001b[0m\u001b[0m\n\u001b[0;32m   1780\u001b[0m     \u001b[1;32mreturn\u001b[0m \u001b[0mnpdtype\u001b[0m\u001b[1;33m\u001b[0m\u001b[1;33m\u001b[0m\u001b[0m\n",
            "\u001b[1;31mTypeError\u001b[0m: dtype '<class 'list'>' not understood"
          ]
        }
      ],
      "source": [
        "data[\"prosecutionEventCode\"].astype(list)"
      ]
    },
    {
      "cell_type": "code",
      "execution_count": null,
      "metadata": {
        "id": "D7bNXxYR_UXb",
        "outputId": "546bc8de-f954-43c7-924e-6715ed5fc4e8"
      },
      "outputs": [
        {
          "data": {
            "text/plain": [
              "0     EML_NTR\n",
              "0        PA..\n",
              "0     EML_NTR\n",
              "0       CCRDY\n",
              "0    PG-ISSUE\n",
              "Name: prosecutionEventCode, dtype: object"
            ]
          },
          "execution_count": 392,
          "metadata": {},
          "output_type": "execute_result"
        }
      ],
      "source": [
        "data_1[\"prosecutionEventCode\"].explode().head()"
      ]
    },
    {
      "cell_type": "code",
      "execution_count": null,
      "metadata": {
        "id": "WGwCBnpL_UXb",
        "outputId": "e8e2cd25-84e1-4197-c451-ed79f2a54029"
      },
      "outputs": [
        {
          "data": {
            "text/plain": [
              "app_filing_date                object\n",
              "app_type_category              object\n",
              "app_business_entity_cat        object\n",
              "app_FITFI                      object\n",
              "app_status_cat                 object\n",
              "app_status_date                object\n",
              "app_file_location_cat          object\n",
              "app_num_value                  object\n",
              "app_num_electronic             object\n",
              "app_group_art_value            object\n",
              "app_group_art_electronic       object\n",
              "examiner_name                  object\n",
              "prosecutionDate                object\n",
              "prosecutionEventCode           object\n",
              "prosecutionEventDescription    object\n",
              "dtype: object"
            ]
          },
          "execution_count": 390,
          "metadata": {},
          "output_type": "execute_result"
        }
      ],
      "source": [
        "data_1.dtypes"
      ]
    },
    {
      "cell_type": "code",
      "execution_count": null,
      "metadata": {
        "id": "drPI_Yc7_UXc"
      },
      "outputs": [],
      "source": []
    },
    {
      "cell_type": "code",
      "execution_count": null,
      "metadata": {
        "id": "HsLd1Rp2_UXc"
      },
      "outputs": [],
      "source": []
    },
    {
      "cell_type": "code",
      "execution_count": null,
      "metadata": {
        "id": "mcmIdQX4_UXc"
      },
      "outputs": [],
      "source": []
    },
    {
      "cell_type": "code",
      "execution_count": null,
      "metadata": {
        "id": "YLbz33iP_UXc"
      },
      "outputs": [],
      "source": [
        "d = defaultdict(list)\n",
        "\n",
        "\n",
        "for col in cols:\n",
        "    d[col].append(locals()[col])"
      ]
    },
    {
      "cell_type": "code",
      "execution_count": null,
      "metadata": {
        "id": "_N1G_arv_UXc",
        "outputId": "c87f78f9-5d81-411c-9588-ff657a161269"
      },
      "outputs": [
        {
          "data": {
            "text/plain": [
              "448889"
            ]
          },
          "execution_count": 380,
          "metadata": {},
          "output_type": "execute_result"
        }
      ],
      "source": [
        "counter"
      ]
    },
    {
      "cell_type": "code",
      "execution_count": null,
      "metadata": {
        "id": "zFSHbNAQ_UXd",
        "outputId": "54e37075-1390-4b24-e868-01f9d09d2cdb"
      },
      "outputs": [
        {
          "data": {
            "text/plain": [
              "(0, 28, 0, 0, 0, 0)"
            ]
          },
          "execution_count": 351,
          "metadata": {},
          "output_type": "execute_result"
        }
      ],
      "source": [
        "primaryExaminerCount, counter, primaryExaminerCount, nameCount, primaryApplicantCount, applicantNameCount"
      ]
    },
    {
      "cell_type": "code",
      "execution_count": null,
      "metadata": {
        "id": "PSnmxkLg_UXd",
        "outputId": "68d25768-44e6-4b7f-f739-6908bfa7a54f"
      },
      "outputs": [
        {
          "data": {
            "text/plain": [
              "0.12199006881433941"
            ]
          },
          "execution_count": 253,
          "metadata": {},
          "output_type": "execute_result"
        }
      ],
      "source": [
        "keyErrorCounter/counter"
      ]
    },
    {
      "cell_type": "code",
      "execution_count": null,
      "metadata": {
        "id": "nrp4sgx__UXd",
        "outputId": "2fb40241-058f-4c1c-fa9c-773b19f2b4f2"
      },
      "outputs": [
        {
          "data": {
            "text/plain": [
              "defaultdict(int,\n",
              "            {\"'groupArtUnitNumber'\": 21113,\n",
              "             \"'applicationStatusCategory'\": 28798,\n",
              "             \"'officialFileLocationCategory'\": 4219,\n",
              "             \"'applicationTypeCategory'\": 629})"
            ]
          },
          "execution_count": 289,
          "metadata": {},
          "output_type": "execute_result"
        }
      ],
      "source": [
        "errorLog"
      ]
    },
    {
      "cell_type": "code",
      "execution_count": null,
      "metadata": {
        "id": "bMvbevzS_UXd",
        "outputId": "b064f29d-a197-4556-fae2-ce5605147260"
      },
      "outputs": [
        {
          "data": {
            "text/plain": [
              "0.06415394451635037"
            ]
          },
          "execution_count": 291,
          "metadata": {},
          "output_type": "execute_result"
        }
      ],
      "source": [
        "28798/counter"
      ]
    },
    {
      "cell_type": "code",
      "execution_count": null,
      "metadata": {
        "id": "EOoKy72S_UXd",
        "outputId": "9019409e-76de-406d-8343-52ef24c2e6db"
      },
      "outputs": [
        {
          "data": {
            "text/plain": [
              "['patentCaseMetadata',\n",
              " 'prosecutionHistoryDataBag',\n",
              " 'assignmentDataBag',\n",
              " 'contentResourceBag',\n",
              " 'st96Version',\n",
              " 'ipoVersion']"
            ]
          },
          "execution_count": 216,
          "metadata": {},
          "output_type": "execute_result"
        }
      ],
      "source": [
        "[*application.keys()]"
      ]
    },
    {
      "cell_type": "code",
      "execution_count": null,
      "metadata": {
        "id": "Ov33J57p_UXe",
        "outputId": "82589543-4e4f-4a55-fde6-7cb335da6b47"
      },
      "outputs": [
        {
          "name": "stdout",
          "output_type": "stream",
          "text": [
            "2.867055614789327\n"
          ]
        }
      ],
      "source": [
        "print((endTime - startTime)/60)"
      ]
    },
    {
      "cell_type": "code",
      "execution_count": null,
      "metadata": {
        "id": "vltNQxD__UXe"
      },
      "outputs": [],
      "source": [
        "for keys in freq.keys():\n",
        "    freq[keys] /= counter"
      ]
    },
    {
      "cell_type": "code",
      "execution_count": null,
      "metadata": {
        "id": "6G7HmbXW_UXe",
        "outputId": "ff446ad8-3169-4368-9577-0970aeb227d7"
      },
      "outputs": [
        {
          "name": "stdout",
          "output_type": "stream",
          "text": [
            "448889 2 448887\n"
          ]
        }
      ],
      "source": [
        "print(counter, errorCounter, loadCounter)"
      ]
    },
    {
      "cell_type": "code",
      "execution_count": null,
      "metadata": {
        "id": "Vl4vf4Lg_UXf",
        "outputId": "463d6b9c-2da8-4b32-d78f-ff8e6f73396e"
      },
      "outputs": [
        {
          "data": {
            "text/plain": [
              "([0, 1, 2, 3, 4, 5, 6],\n",
              " [Text(0, 0, ''),\n",
              "  Text(0, 0, ''),\n",
              "  Text(0, 0, ''),\n",
              "  Text(0, 0, ''),\n",
              "  Text(0, 0, ''),\n",
              "  Text(0, 0, ''),\n",
              "  Text(0, 0, '')])"
            ]
          },
          "execution_count": 221,
          "metadata": {},
          "output_type": "execute_result"
        },
        {
          "data": {
            "image/png": "[encoded data removed]",
            "text/plain": [
              "<Figure size 864x720 with 1 Axes>"
            ]
          },
          "metadata": {
            "needs_background": "light"
          },
          "output_type": "display_data"
        }
      ],
      "source": [
        "fig, ax = plt.subplots(figsize = (12,10))\n",
        "\n",
        "plt.bar(x = [*freq.keys()], height = [*freq.values()])\n",
        "plt.xticks(rotation=45, ha='right')"
      ]
    },
    {
      "cell_type": "code",
      "execution_count": null,
      "metadata": {
        "id": "yQea087K_UXf",
        "outputId": "1df9c161-ceec-43bc-d1ab-d3288952dcfd"
      },
      "outputs": [
        {
          "data": {
            "text/plain": [
              "'] }'"
            ]
          },
          "execution_count": 186,
          "metadata": {},
          "output_type": "execute_result"
        }
      ],
      "source": [
        "line"
      ]
    },
    {
      "cell_type": "code",
      "execution_count": null,
      "metadata": {
        "id": "jBPHxl5I_UXg",
        "outputId": "afa49e5b-c2b6-4176-dee2-34560ed22fc7"
      },
      "outputs": [
        {
          "data": {
            "text/plain": [
              "{'patentCaseMetadata': {'applicationNumberText': {'value': '17140048',\n",
              "   'electronicText': '17140048'},\n",
              "  'filingDate': '2021-01-02',\n",
              "  'applicationTypeCategory': 'Utility',\n",
              "  'partyBag': {'applicantBagOrInventorBagOrOwnerBag': [{'primaryExaminerOrAssistantExaminerOrAuthorizedOfficer': [{'name': {'personNameOrOrganizationNameOrEntityName': [{'personFullName': 'CENTRAL, DOCKET'}]}}]},\n",
              "    {'applicant': [{'contactOrPublicationContact': [{'name': {'personNameOrOrganizationNameOrEntityName': [{'organizationStandardName': {'content': ['ELITE DESIGNED CONCRETE INC.']}}]},\n",
              "         'cityName': 'Thornhill',\n",
              "         'geographicRegionName': {'value': '',\n",
              "          'geographicRegionCategory': 'STATE'},\n",
              "         'countryCode': 'CA'}]}]},\n",
              "    {'inventorOrDeceasedInventor': [{'contactOrPublicationContact': [{'name': {'personNameOrOrganizationNameOrEntityName': [{'personStructuredName': {'firstName': 'Raffy',\n",
              "             'middleName': '',\n",
              "             'lastName': 'Hanimyan'}}]},\n",
              "         'cityName': 'Thornhill',\n",
              "         'geographicRegionName': {'value': '',\n",
              "          'geographicRegionCategory': 'STATE'},\n",
              "         'countryCode': 'CA'}]}]},\n",
              "    {'partyIdentifierOrContact': [{'name': {'personNameOrOrganizationNameOrEntityName': [{'personStructuredName': {'lastName': 'Heer Law'}}]},\n",
              "       'postalAddressBag': {'postalAddress': [{'postalStructuredAddress': {'addressLineText': [{'value': '25 Adelaide Street East'},\n",
              "            {'value': 'Suite 1000'}],\n",
              "           'cityName': 'Toronto',\n",
              "           'geographicRegionName': [{'value': 'ON'}],\n",
              "           'countryCode': 'CA',\n",
              "           'postalCode': 'M5C 3A1'}}]}},\n",
              "      {'value': '123205'}]}]},\n",
              "  'groupArtUnitNumber': {'value': 'OPAP', 'electronicText': 'OPAP'},\n",
              "  'applicationConfirmationNumber': '2236',\n",
              "  'applicantFileReference': '689-7',\n",
              "  'patentClassificationBag': {'cpcClassificationBagOrIPCClassificationOrECLAClassificationBag': [{'ipOfficeCode': 'US',\n",
              "     'mainNationalClassification': {'nationalClass': '264',\n",
              "      'nationalSubclass': '031000'}}]},\n",
              "  'businessEntityStatusCategory': 'SMALL',\n",
              "  'firstInventorToFileIndicator': 'true',\n",
              "  'inventionTitle': {'content': ['CONCRETE FORM AND RELATED METHOD OF CREATING A CANTILEVER REVEAL']},\n",
              "  'applicationStatusCategory': 'Docketed New Case - Ready for Examination',\n",
              "  'applicationStatusDate': '2021-08-21',\n",
              "  'officialFileLocationCategory': 'ELECTRONIC',\n",
              "  'patentPublicationIdentification': {'publicationNumber': 'US20220213702A1',\n",
              "   'publicationDate': '2022-07-07'}},\n",
              " 'prosecutionHistoryDataBag': {'prosecutionHistoryData': [{'eventDate': '2022-07-08',\n",
              "    'eventCode': 'EML_NTR',\n",
              "    'eventDescriptionText': 'Email Notification'},\n",
              "   {'eventDate': '2022-07-07',\n",
              "    'eventCode': 'CCRDY',\n",
              "    'eventDescriptionText': 'Application ready for PDX access by participating foreign offices'},\n",
              "   {'eventDate': '2022-07-07',\n",
              "    'eventCode': 'PG-ISSUE',\n",
              "    'eventDescriptionText': 'PG-Pub Issue Notification'},\n",
              "   {'eventDate': '2021-08-21',\n",
              "    'eventCode': 'DOCK',\n",
              "    'eventDescriptionText': 'Case Docketed to Examiner in GAU'},\n",
              "   {'eventDate': '2021-02-08',\n",
              "    'eventCode': 'OIPE',\n",
              "    'eventDescriptionText': 'Application Dispatched from OIPE'},\n",
              "   {'eventDate': '2021-01-21',\n",
              "    'eventCode': 'EML_NTR',\n",
              "    'eventDescriptionText': 'Email Notification'},\n",
              "   {'eventDate': '2021-01-19',\n",
              "    'eventCode': 'PGPC',\n",
              "    'eventDescriptionText': 'Sent to Classification Contractor'},\n",
              "   {'eventDate': '2021-01-19',\n",
              "    'eventCode': 'FTFS',\n",
              "    'eventDescriptionText': 'FITF set to YES - revise initial setting'},\n",
              "   {'eventDate': '2021-01-02',\n",
              "    'eventCode': 'PTA.RFE',\n",
              "    'eventDescriptionText': 'Patent Term Adjustment - Ready for Examination'},\n",
              "   {'eventDate': '2021-01-21',\n",
              "    'eventCode': 'COMP',\n",
              "    'eventDescriptionText': 'Application Is Now Complete'},\n",
              "   {'eventDate': '2021-01-21',\n",
              "    'eventCode': 'FLRCPT.O',\n",
              "    'eventDescriptionText': 'Filing Receipt'},\n",
              "   {'eventDate': '2021-01-02',\n",
              "    'eventCode': 'SREXR141',\n",
              "    'eventDescriptionText': 'PTO/SB/69-Authorize EPO Access to Search Results'},\n",
              "   {'eventDate': '2021-01-02',\n",
              "    'eventCode': 'APPERMS',\n",
              "    'eventDescriptionText': 'Applicants have given acceptable permission for participating foreign '},\n",
              "   {'eventDate': '2021-01-15',\n",
              "    'eventCode': 'SMAL',\n",
              "    'eventDescriptionText': 'Applicant Has Filed a Verified Statement of Small Entity Status in Compliance with 37 CFR 1.27'},\n",
              "   {'eventDate': '2021-01-02',\n",
              "    'eventCode': 'BIG.',\n",
              "    'eventDescriptionText': 'Entity Status Set To Undiscounted (Initial Default Setting or Status Change)'},\n",
              "   {'eventDate': '2021-01-02',\n",
              "    'eventCode': 'IEXX',\n",
              "    'eventDescriptionText': 'Initial Exam Team nn'}]},\n",
              " 'contentResourceBag': {'contentResource': [{'officialDate': '2022-07-07',\n",
              "    'documentCode': 'NTC.PUB',\n",
              "    'descriptionText': 'Notice of Publication',\n",
              "    'documentCategory': 'PROSECUTION',\n",
              "    'pageTotalQuantity': 1},\n",
              "   {'officialDate': '2021-01-21',\n",
              "    'documentCode': 'APP.FILE.REC',\n",
              "    'descriptionText': 'Filing Receipt',\n",
              "    'documentCategory': 'PROSECUTION',\n",
              "    'pageTotalQuantity': 3},\n",
              "   {'officialDate': '2021-01-21',\n",
              "    'documentCode': 'WFEE',\n",
              "    'descriptionText': 'Fee Worksheet (SB06)',\n",
              "    'documentCategory': 'PROSECUTION',\n",
              "    'pageTotalQuantity': 1},\n",
              "   {'officialDate': '2021-01-02',\n",
              "    'documentCode': 'PA..',\n",
              "    'descriptionText': 'Power of Attorney',\n",
              "    'documentCategory': 'PROSECUTION',\n",
              "    'pageTotalQuantity': 4},\n",
              "   {'officialDate': '2021-01-02',\n",
              "    'documentCode': 'WFEE',\n",
              "    'descriptionText': 'Fee Worksheet (SB06)',\n",
              "    'documentCategory': 'PROSECUTION',\n",
              "    'pageTotalQuantity': 2},\n",
              "   {'officialDate': '2021-01-02',\n",
              "    'documentCode': 'DRW',\n",
              "    'descriptionText': 'Drawings-only black and white line drawings',\n",
              "    'documentCategory': 'PROSECUTION',\n",
              "    'pageTotalQuantity': 19},\n",
              "   {'officialDate': '2021-01-02',\n",
              "    'documentCode': 'SPEC',\n",
              "    'descriptionText': 'Specification',\n",
              "    'documentCategory': 'PROSECUTION',\n",
              "    'pageTotalQuantity': 10},\n",
              "   {'officialDate': '2021-01-02',\n",
              "    'documentCode': 'OATH',\n",
              "    'descriptionText': 'Oath or Declaration filed',\n",
              "    'documentCategory': 'PROSECUTION',\n",
              "    'pageTotalQuantity': 2},\n",
              "   {'officialDate': '2021-01-02',\n",
              "    'documentCode': 'N417',\n",
              "    'descriptionText': 'Electronic Filing System(EFS) Acknowledgment Receipt',\n",
              "    'documentCategory': 'PROSECUTION',\n",
              "    'pageTotalQuantity': 3},\n",
              "   {'officialDate': '2021-01-02',\n",
              "    'documentCode': 'ADS',\n",
              "    'descriptionText': 'Application Data Sheet',\n",
              "    'documentCategory': 'PROSECUTION',\n",
              "    'pageTotalQuantity': 8},\n",
              "   {'officialDate': '2021-01-02',\n",
              "    'documentCode': 'SPEC',\n",
              "    'descriptionText': 'Specification',\n",
              "    'documentCategory': 'PROSECUTION',\n",
              "    'pageTotalQuantity': 7},\n",
              "   {'officialDate': '2021-01-02',\n",
              "    'documentCode': 'CLM',\n",
              "    'descriptionText': 'Claims',\n",
              "    'documentCategory': 'PROSECUTION',\n",
              "    'pageTotalQuantity': 2},\n",
              "   {'officialDate': '2021-01-02',\n",
              "    'documentCode': 'ABST',\n",
              "    'descriptionText': 'Abstract',\n",
              "    'documentCategory': 'PROSECUTION',\n",
              "    'pageTotalQuantity': 1}]},\n",
              " 'st96Version': 'V4_0',\n",
              " 'ipoVersion': 'US_V9_0'}"
            ]
          },
          "execution_count": 190,
          "metadata": {},
          "output_type": "execute_result"
        }
      ],
      "source": [
        "application"
      ]
    },
    {
      "cell_type": "code",
      "execution_count": null,
      "metadata": {
        "id": "PbfmmRUg_UXg",
        "outputId": "373908da-3810-4255-ec49-a6a3f8921e29"
      },
      "outputs": [
        {
          "data": {
            "text/plain": [
              "'{\"patentCaseMetadata\": {\"applicationNumberText\": {\"value\": \"17140048\", \"electronicText\": \"17140048\"}, \"filingDate\": \"2021-01-02\", \"applicationTypeCategory\": \"Utility\", \"partyBag\": {\"applicantBagOrInventorBagOrOwnerBag\": [{\"primaryExaminerOrAssistantExaminerOrAuthorizedOfficer\": [{\"name\": {\"personNameOrOrganizationNameOrEntityName\": [{\"personFullName\": \"CENTRAL, DOCKET\"}]}}]}, {\"applicant\": [{\"contactOrPublicationContact\": [{\"name\": {\"personNameOrOrganizationNameOrEntityName\": [{\"organizationStandardName\": {\"content\": [\"ELITE DESIGNED CONCRETE INC.\"]}}]}, \"cityName\": \"Thornhill\", \"geographicRegionName\": {\"value\": \"\", \"geographicRegionCategory\": \"STATE\"}, \"countryCode\": \"CA\"}]}]}, {\"inventorOrDeceasedInventor\": [{\"contactOrPublicationContact\": [{\"name\": {\"personNameOrOrganizationNameOrEntityName\": [{\"personStructuredName\": {\"firstName\": \"Raffy\", \"middleName\": \"\", \"lastName\": \"Hanimyan\"}}]}, \"cityName\": \"Thornhill\", \"geographicRegionName\": {\"value\": \"\", \"geographicRegionCategory\": \"STATE\"}, \"countryCode\": \"CA\"}]}]}, {\"partyIdentifierOrContact\": [{\"name\": {\"personNameOrOrganizationNameOrEntityName\": [{\"personStructuredName\": {\"lastName\": \"Heer Law\"}}]}, \"postalAddressBag\": {\"postalAddress\": [{\"postalStructuredAddress\": {\"addressLineText\": [{\"value\": \"25 Adelaide Street East\"}, {\"value\": \"Suite 1000\"}], \"cityName\": \"Toronto\", \"geographicRegionName\": [{\"value\": \"ON\"}], \"countryCode\": \"CA\", \"postalCode\": \"M5C 3A1\"}}]}}, {\"value\": \"123205\"}]}]}, \"groupArtUnitNumber\": {\"value\": \"OPAP\", \"electronicText\": \"OPAP\"}, \"applicationConfirmationNumber\": \"2236\", \"applicantFileReference\": \"689-7\", \"patentClassificationBag\": {\"cpcClassificationBagOrIPCClassificationOrECLAClassificationBag\": [{\"ipOfficeCode\": \"US\", \"mainNationalClassification\": {\"nationalClass\": \"264\", \"nationalSubclass\": \"031000\"}}]}, \"businessEntityStatusCategory\": \"SMALL\", \"firstInventorToFileIndicator\": \"true\", \"inventionTitle\": {\"content\": [\"CONCRETE FORM AND RELATED METHOD OF CREATING A CANTILEVER REVEAL\"]}, \"applicationStatusCategory\": \"Docketed New Case - Ready for Examination\", \"applicationStatusDate\": \"2021-08-21\", \"officialFileLocationCategory\": \"ELECTRONIC\", \"patentPublicationIdentification\": {\"publicationNumber\": \"US20220213702A1\", \"publicationDate\": \"2022-07-07\"}}, \"prosecutionHistoryDataBag\": {\"prosecutionHistoryData\": [{\"eventDate\": \"2022-07-08\", \"eventCode\": \"EML_NTR\", \"eventDescriptionText\": \"Email Notification\"}, {\"eventDate\": \"2022-07-07\", \"eventCode\": \"CCRDY\", \"eventDescriptionText\": \"Application ready for PDX access by participating foreign offices\"}, {\"eventDate\": \"2022-07-07\", \"eventCode\": \"PG-ISSUE\", \"eventDescriptionText\": \"PG-Pub Issue Notification\"}, {\"eventDate\": \"2021-08-21\", \"eventCode\": \"DOCK\", \"eventDescriptionText\": \"Case Docketed to Examiner in GAU\"}, {\"eventDate\": \"2021-02-08\", \"eventCode\": \"OIPE\", \"eventDescriptionText\": \"Application Dispatched from OIPE\"}, {\"eventDate\": \"2021-01-21\", \"eventCode\": \"EML_NTR\", \"eventDescriptionText\": \"Email Notification\"}, {\"eventDate\": \"2021-01-19\", \"eventCode\": \"PGPC\", \"eventDescriptionText\": \"Sent to Classification Contractor\"}, {\"eventDate\": \"2021-01-19\", \"eventCode\": \"FTFS\", \"eventDescriptionText\": \"FITF set to YES - revise initial setting\"}, {\"eventDate\": \"2021-01-02\", \"eventCode\": \"PTA.RFE\", \"eventDescriptionText\": \"Patent Term Adjustment - Ready for Examination\"}, {\"eventDate\": \"2021-01-21\", \"eventCode\": \"COMP\", \"eventDescriptionText\": \"Application Is Now Complete\"}, {\"eventDate\": \"2021-01-21\", \"eventCode\": \"FLRCPT.O\", \"eventDescriptionText\": \"Filing Receipt\"}, {\"eventDate\": \"2021-01-02\", \"eventCode\": \"SREXR141\", \"eventDescriptionText\": \"PTO/SB/69-Authorize EPO Access to Search Results\"}, {\"eventDate\": \"2021-01-02\", \"eventCode\": \"APPERMS\", \"eventDescriptionText\": \"Applicants have given acceptable permission for participating foreign \"}, {\"eventDate\": \"2021-01-15\", \"eventCode\": \"SMAL\", \"eventDescriptionText\": \"Applicant Has Filed a Verified Statement of Small Entity Status in Compliance with 37 CFR 1.27\"}, {\"eventDate\": \"2021-01-02\", \"eventCode\": \"BIG.\", \"eventDescriptionText\": \"Entity Status Set To Undiscounted (Initial Default Setting or Status Change)\"}, {\"eventDate\": \"2021-01-02\", \"eventCode\": \"IEXX\", \"eventDescriptionText\": \"Initial Exam Team nn\"}]}, \"contentResourceBag\": {\"contentResource\": [{\"officialDate\": \"2022-07-07\", \"documentCode\": \"NTC.PUB\", \"descriptionText\": \"Notice of Publication\", \"documentCategory\": \"PROSECUTION\", \"pageTotalQuantity\": 1}, {\"officialDate\": \"2021-01-21\", \"documentCode\": \"APP.FILE.REC\", \"descriptionText\": \"Filing Receipt\", \"documentCategory\": \"PROSECUTION\", \"pageTotalQuantity\": 3}, {\"officialDate\": \"2021-01-21\", \"documentCode\": \"WFEE\", \"descriptionText\": \"Fee Worksheet (SB06)\", \"documentCategory\": \"PROSECUTION\", \"pageTotalQuantity\": 1}, {\"officialDate\": \"2021-01-02\", \"documentCode\": \"PA..\", \"descriptionText\": \"Power of Attorney\", \"documentCategory\": \"PROSECUTION\", \"pageTotalQuantity\": 4}, {\"officialDate\": \"2021-01-02\", \"documentCode\": \"WFEE\", \"descriptionText\": \"Fee Worksheet (SB06)\", \"documentCategory\": \"PROSECUTION\", \"pageTotalQuantity\": 2}, {\"officialDate\": \"2021-01-02\", \"documentCode\": \"DRW\", \"descriptionText\": \"Drawings-only black and white line drawings\", \"documentCategory\": \"PROSECUTION\", \"pageTotalQuantity\": 19}, {\"officialDate\": \"2021-01-02\", \"documentCode\": \"SPEC\", \"descriptionText\": \"Specification\", \"documentCategory\": \"PROSECUTION\", \"pageTotalQuantity\": 10}, {\"officialDate\": \"2021-01-02\", \"documentCode\": \"OATH\", \"descriptionText\": \"Oath or Declaration filed\", \"documentCategory\": \"PROSECUTION\", \"pageTotalQuantity\": 2}, {\"officialDate\": \"2021-01-02\", \"documentCode\": \"N417\", \"descriptionText\": \"Electronic Filing System(EFS) Acknowledgment Receipt\", \"documentCategory\": \"PROSECUTION\", \"pageTotalQuantity\": 3}, {\"officialDate\": \"2021-01-02\", \"documentCode\": \"ADS\", \"descriptionText\": \"Application Data Sheet\", \"documentCategory\": \"PROSECUTION\", \"pageTotalQuantity\": 8}, {\"officialDate\": \"2021-01-02\", \"documentCode\": \"SPEC\", \"descriptionText\": \"Specification\", \"documentCategory\": \"PROSECUTION\", \"pageTotalQuantity\": 7}, {\"officialDate\": \"2021-01-02\", \"documentCode\": \"CLM\", \"descriptionText\": \"Claims\", \"documentCategory\": \"PROSECUTION\", \"pageTotalQuantity\": 2}, {\"officialDate\": \"2021-01-02\", \"documentCode\": \"ABST\", \"descriptionText\": \"Abstract\", \"documentCategory\": \"PROSECUTION\", \"pageTotalQuantity\": 1}]}, \"st96Version\": \"V4_0\", \"ipoVersion\": \"US_V9_0\"}'"
            ]
          },
          "execution_count": 191,
          "metadata": {},
          "output_type": "execute_result"
        }
      ],
      "source": [
        "json.dumps(application)"
      ]
    },
    {
      "cell_type": "code",
      "execution_count": null,
      "metadata": {
        "scrolled": true,
        "id": "r7FBsZZu_UXh",
        "outputId": "054d9d67-68b2-4d96-adca-e86494afb46d"
      },
      "outputs": [
        {
          "data": {
            "text/plain": [
              "'{\"patentCaseMetadata\": {\"applicationNumberText\": {\"value\": \"63133257\", \"electronicText\": \"63133257\"}, \"filingDate\": \"2021-01-01\", \"applicationTypeCategory\": \"Provisional\", \"partyBag\": {\"applicantBagOrInventorBagOrOwnerBag\": [{\"inventorOrDeceasedInventor\": [{\"contactOrPublicationContact\": [{\"name\": {\"personNameOrOrganizationNameOrEntityName\": [{\"personStructuredName\": {\"firstName\": \"Qi\", \"middleName\": \"\", \"lastName\": \"Zhou\"}}]}, \"cityName\": \"West Lafayette\", \"geographicRegionName\": {\"value\": \"IN\", \"geographicRegionCategory\": \"STATE\"}, \"countryCode\": \"US\"}]}, {\"contactOrPublicationContact\": [{\"name\": {\"personNameOrOrganizationNameOrEntityName\": [{\"personStructuredName\": {\"firstName\": \"Maizbha\", \"middleName\": \"Uddin\", \"lastName\": \"Ahmed\"}}]}, \"cityName\": \"West Lafayette\", \"geographicRegionName\": {\"value\": \"IN\", \"geographicRegionCategory\": \"STATE\"}, \"countryCode\": \"US\"}]}, {\"contactOrPublicationContact\": [{\"name\": {\"personNameOrOrganizationNameOrEntityName\": [{\"personStructuredName\": {\"firstName\": \"Mohammad\", \"middleName\": \"\", \"lastName\": \"Azad\"}}]}, \"cityName\": \"Melton South\", \"geographicRegionName\": {\"value\": \"\", \"geographicRegionCategory\": \"STATE\"}, \"countryCode\": \"AU\"}]}, {\"contactOrPublicationContact\": [{\"name\": {\"personNameOrOrganizationNameOrEntityName\": [{\"personStructuredName\": {\"firstName\": \"Jian\", \"middleName\": \"\", \"lastName\": \"Li\"}}]}, \"cityName\": \"Carnegie\", \"geographicRegionName\": {\"value\": \"\", \"geographicRegionCategory\": \"STATE\"}, \"countryCode\": \"AU\"}]}]}, {\"partyIdentifierOrContact\": [{\"name\": {\"personNameOrOrganizationNameOrEntityName\": [{\"personStructuredName\": {\"lastName\": \"Purdue Research Foundation\"}}]}, \"postalAddressBag\": {\"postalAddress\": [{\"postalStructuredAddress\": {\"addressLineText\": [{\"value\": \"101 Foundry Drive, Suite 2500\"}], \"cityName\": \"West Lafayette\", \"geographicRegionName\": [{\"value\": \"IN\"}], \"countryCode\": \"US\", \"postalCode\": \"47906\"}}]}}, {\"value\": \"11660\"}]}]}, \"applicationConfirmationNumber\": \"5968\", \"applicantFileReference\": \"69256-01\", \"businessEntityStatusCategory\": \"SMALL\", \"firstInventorToFileIndicator\": \"Other\", \"inventionTitle\": {\"content\": [\"POLYMYXIN COMBINATIONAL FORMULATION\"]}, \"applicationStatusCategory\": \"Provisional Application Expired\", \"applicationStatusDate\": \"2022-01-02\", \"officialFileLocationCategory\": \"ELECTRONIC\", \"relatedDocumentData\": {\"parentDocumentDataOrChildDocumentData\": [{\"descriptionText\": \"which is Published claims the benefit of 63133257\", \"applicationNumberText\": \"PCT/US21/56727\", \"filingDate\": \"2021-10-27\", \"childDocumentStatusCode\": \"Published\", \"patentNumber\": \"\"}]}}, \"prosecutionHistoryDataBag\": {\"prosecutionHistoryData\": [{\"eventDate\": \"2022-01-02\", \"eventCode\": \"EXPRO\", \"eventDescriptionText\": \"EXPIRED PROVISIONAL\"}, {\"eventDate\": \"2021-02-03\", \"eventCode\": \"EML_NTR\", \"eventDescriptionText\": \"Email Notification\"}, {\"eventDate\": \"2021-02-02\", \"eventCode\": \"OIPE\", \"eventDescriptionText\": \"Application Dispatched from OIPE\"}, {\"eventDate\": \"2021-02-03\", \"eventCode\": \"COMP\", \"eventDescriptionText\": \"Application Is Now Complete\"}, {\"eventDate\": \"2021-02-03\", \"eventCode\": \"FLRCPT.O\", \"eventDescriptionText\": \"Filing Receipt\"}, {\"eventDate\": \"2021-02-02\", \"eventCode\": \"SMAL\", \"eventDescriptionText\": \"Applicant Has Filed a Verified Statement of Small Entity Status in Compliance with 37 CFR 1.27\"}, {\"eventDate\": \"2021-01-01\", \"eventCode\": \"BIG.\", \"eventDescriptionText\": \"Entity Status Set To Undiscounted (Initial Default Setting or Status Change)\"}, {\"eventDate\": \"2021-01-01\", \"eventCode\": \"IEXX\", \"eventDescriptionText\": \"Initial Exam Team nn\"}]}, \"contentResourceBag\": {\"contentResource\": [{\"officialDate\": \"2021-02-03\", \"documentCode\": \"APP.FILE.REC\", \"descriptionText\": \"Filing Receipt\", \"documentCategory\": \"PROSECUTION\", \"pageTotalQuantity\": 3}, {\"officialDate\": \"2021-01-01\", \"documentCode\": \"APPENDIX\", \"descriptionText\": \"Appendix to the specification\", \"documentCategory\": \"PROSECUTION\", \"pageTotalQuantity\": 1}, {\"officialDate\": \"2021-01-01\", \"documentCode\": \"SCORE\", \"descriptionText\": \"Placeholder sheet indicating presence of supplemental content in Supplemental Complex Repository for Examiners(SCORE)\", \"documentCategory\": \"PROSECUTION\", \"pageTotalQuantity\": 1}, {\"officialDate\": \"2021-01-01\", \"documentCode\": \"N417\", \"descriptionText\": \"Electronic Filing System(EFS) Acknowledgment Receipt\", \"documentCategory\": \"PROSECUTION\", \"pageTotalQuantity\": 3}, {\"officialDate\": \"2021-01-01\", \"documentCode\": \"WFEE\", \"descriptionText\": \"Fee Worksheet (SB06)\", \"documentCategory\": \"PROSECUTION\", \"pageTotalQuantity\": 2}, {\"officialDate\": \"2021-01-01\", \"documentCode\": \"TR.PROV\", \"descriptionText\": \"Provisional Cover Sheet (SB16)\", \"documentCategory\": \"PROSECUTION\", \"pageTotalQuantity\": 4}, {\"officialDate\": \"2021-01-01\", \"documentCode\": \"APPENDIX\", \"descriptionText\": \"Appendix to the specification\", \"documentCategory\": \"PROSECUTION\", \"pageTotalQuantity\": 17}, {\"officialDate\": \"2021-01-01\", \"documentCode\": \"SPEC\", \"descriptionText\": \"Specification\", \"documentCategory\": \"PROSECUTION\", \"pageTotalQuantity\": 26}, {\"officialDate\": \"2021-01-01\", \"documentCode\": \"DRW.NONBW\", \"descriptionText\": \"Drawings-other than black and white line drawings\", \"documentCategory\": \"PROSECUTION\", \"pageTotalQuantity\": 7}, {\"officialDate\": \"2021-01-01\", \"documentCode\": \"ABST\", \"descriptionText\": \"Abstract\", \"documentCategory\": \"PROSECUTION\", \"pageTotalQuantity\": 1}, {\"officialDate\": \"2021-01-01\", \"documentCode\": \"SPEC\", \"descriptionText\": \"Specification\", \"documentCategory\": \"PROSECUTION\", \"pageTotalQuantity\": 21}, {\"officialDate\": \"2021-01-01\", \"documentCode\": \"CLM\", \"descriptionText\": \"Claims\", \"documentCategory\": \"PROSECUTION\", \"pageTotalQuantity\": 4}]}, \"st96Version\": \"V4_0\", \"ipoVersion\": \"US_V9_0\"}'"
            ]
          },
          "execution_count": 244,
          "metadata": {},
          "output_type": "execute_result"
        }
      ],
      "source": [
        "json.dumps(application)"
      ]
    },
    {
      "cell_type": "code",
      "execution_count": null,
      "metadata": {
        "id": "qXRvQ6p2_UXh"
      },
      "outputs": [],
      "source": [
        "for application in applications:\n",
        "    a = [*application.keys()]\n",
        "    break"
      ]
    },
    {
      "cell_type": "code",
      "execution_count": null,
      "metadata": {
        "id": "LDL_39Iz_UXh"
      },
      "outputs": [],
      "source": [
        "a = np.array([], dtype = \"str\")\n",
        "\n",
        "a = np.append(a,[*application.keys()])"
      ]
    },
    {
      "cell_type": "code",
      "execution_count": null,
      "metadata": {
        "id": "PFl2WC7k_UXh"
      },
      "outputs": [],
      "source": [
        "a = np.append(a,[*application.keys()])"
      ]
    },
    {
      "cell_type": "code",
      "execution_count": null,
      "metadata": {
        "id": "EOXiIM2W_UXh",
        "outputId": "43e8f37e-e5eb-440d-b295-801fc9e8fe6b"
      },
      "outputs": [
        {
          "data": {
            "text/plain": [
              "6"
            ]
          },
          "execution_count": 149,
          "metadata": {},
          "output_type": "execute_result"
        }
      ],
      "source": [
        "len(np.unique(a, return_counts=True)[0])"
      ]
    },
    {
      "cell_type": "code",
      "execution_count": null,
      "metadata": {
        "id": "L2_P502L_UXi",
        "outputId": "2c34d439-a210-40cb-f58d-4017c5dd842f"
      },
      "outputs": [
        {
          "name": "stdout",
          "output_type": "stream",
          "text": [
            "137.52074575424194\n"
          ]
        }
      ],
      "source": [
        "print((endTime - startTime))"
      ]
    },
    {
      "cell_type": "code",
      "execution_count": null,
      "metadata": {
        "id": "mqwXVE79_UXi",
        "outputId": "93df3506-4717-4d2a-8ab9-d7c91fb47250"
      },
      "outputs": [
        {
          "name": "stdout",
          "output_type": "stream",
          "text": [
            "An exception occurred\n"
          ]
        }
      ],
      "source": [
        "try:\n",
        "    json.loads(line+\"]}\")"
      ]
    },
    {
      "cell_type": "code",
      "execution_count": null,
      "metadata": {
        "id": "N6C83DlT_UXi",
        "outputId": "3a472ca4-c843-46a4-c435-a8ca3df10534"
      },
      "outputs": [
        {
          "ename": "JSONDecodeError",
          "evalue": "Expecting value: line 1 column 1 (char 0)",
          "output_type": "error",
          "traceback": [
            "\u001b[1;31m---------------------------------------------------------------------------\u001b[0m",
            "\u001b[1;31mJSONDecodeError\u001b[0m                           Traceback (most recent call last)",
            "\u001b[1;32m<ipython-input-62-83c07b7deb45>\u001b[0m in \u001b[0;36m<module>\u001b[1;34m\u001b[0m\n\u001b[1;32m----> 1\u001b[1;33m \u001b[0mjson\u001b[0m\u001b[1;33m.\u001b[0m\u001b[0mloads\u001b[0m\u001b[1;33m(\u001b[0m\u001b[0mline\u001b[0m\u001b[1;33m+\u001b[0m\u001b[1;34m\"]}\"\u001b[0m\u001b[1;33m)\u001b[0m\u001b[1;33m\u001b[0m\u001b[1;33m\u001b[0m\u001b[0m\n\u001b[0m",
            "\u001b[1;32mC:\\Program Files (x86)\\Microsoft Visual Studio\\Shared\\Anaconda3_64\\lib\\json\\__init__.py\u001b[0m in \u001b[0;36mloads\u001b[1;34m(s, encoding, cls, object_hook, parse_float, parse_int, parse_constant, object_pairs_hook, **kw)\u001b[0m\n\u001b[0;32m    352\u001b[0m             \u001b[0mparse_int\u001b[0m \u001b[1;32mis\u001b[0m \u001b[1;32mNone\u001b[0m \u001b[1;32mand\u001b[0m \u001b[0mparse_float\u001b[0m \u001b[1;32mis\u001b[0m \u001b[1;32mNone\u001b[0m \u001b[1;32mand\u001b[0m\u001b[1;33m\u001b[0m\u001b[1;33m\u001b[0m\u001b[0m\n\u001b[0;32m    353\u001b[0m             parse_constant is None and object_pairs_hook is None and not kw):\n\u001b[1;32m--> 354\u001b[1;33m         \u001b[1;32mreturn\u001b[0m \u001b[0m_default_decoder\u001b[0m\u001b[1;33m.\u001b[0m\u001b[0mdecode\u001b[0m\u001b[1;33m(\u001b[0m\u001b[0ms\u001b[0m\u001b[1;33m)\u001b[0m\u001b[1;33m\u001b[0m\u001b[1;33m\u001b[0m\u001b[0m\n\u001b[0m\u001b[0;32m    355\u001b[0m     \u001b[1;32mif\u001b[0m \u001b[0mcls\u001b[0m \u001b[1;32mis\u001b[0m \u001b[1;32mNone\u001b[0m\u001b[1;33m:\u001b[0m\u001b[1;33m\u001b[0m\u001b[1;33m\u001b[0m\u001b[0m\n\u001b[0;32m    356\u001b[0m         \u001b[0mcls\u001b[0m \u001b[1;33m=\u001b[0m \u001b[0mJSONDecoder\u001b[0m\u001b[1;33m\u001b[0m\u001b[1;33m\u001b[0m\u001b[0m\n",
            "\u001b[1;32mC:\\Program Files (x86)\\Microsoft Visual Studio\\Shared\\Anaconda3_64\\lib\\json\\decoder.py\u001b[0m in \u001b[0;36mdecode\u001b[1;34m(self, s, _w)\u001b[0m\n\u001b[0;32m    337\u001b[0m \u001b[1;33m\u001b[0m\u001b[0m\n\u001b[0;32m    338\u001b[0m         \"\"\"\n\u001b[1;32m--> 339\u001b[1;33m         \u001b[0mobj\u001b[0m\u001b[1;33m,\u001b[0m \u001b[0mend\u001b[0m \u001b[1;33m=\u001b[0m \u001b[0mself\u001b[0m\u001b[1;33m.\u001b[0m\u001b[0mraw_decode\u001b[0m\u001b[1;33m(\u001b[0m\u001b[0ms\u001b[0m\u001b[1;33m,\u001b[0m \u001b[0midx\u001b[0m\u001b[1;33m=\u001b[0m\u001b[0m_w\u001b[0m\u001b[1;33m(\u001b[0m\u001b[0ms\u001b[0m\u001b[1;33m,\u001b[0m \u001b[1;36m0\u001b[0m\u001b[1;33m)\u001b[0m\u001b[1;33m.\u001b[0m\u001b[0mend\u001b[0m\u001b[1;33m(\u001b[0m\u001b[1;33m)\u001b[0m\u001b[1;33m)\u001b[0m\u001b[1;33m\u001b[0m\u001b[1;33m\u001b[0m\u001b[0m\n\u001b[0m\u001b[0;32m    340\u001b[0m         \u001b[0mend\u001b[0m \u001b[1;33m=\u001b[0m \u001b[0m_w\u001b[0m\u001b[1;33m(\u001b[0m\u001b[0ms\u001b[0m\u001b[1;33m,\u001b[0m \u001b[0mend\u001b[0m\u001b[1;33m)\u001b[0m\u001b[1;33m.\u001b[0m\u001b[0mend\u001b[0m\u001b[1;33m(\u001b[0m\u001b[1;33m)\u001b[0m\u001b[1;33m\u001b[0m\u001b[1;33m\u001b[0m\u001b[0m\n\u001b[0;32m    341\u001b[0m         \u001b[1;32mif\u001b[0m \u001b[0mend\u001b[0m \u001b[1;33m!=\u001b[0m \u001b[0mlen\u001b[0m\u001b[1;33m(\u001b[0m\u001b[0ms\u001b[0m\u001b[1;33m)\u001b[0m\u001b[1;33m:\u001b[0m\u001b[1;33m\u001b[0m\u001b[1;33m\u001b[0m\u001b[0m\n",
            "\u001b[1;32mC:\\Program Files (x86)\\Microsoft Visual Studio\\Shared\\Anaconda3_64\\lib\\json\\decoder.py\u001b[0m in \u001b[0;36mraw_decode\u001b[1;34m(self, s, idx)\u001b[0m\n\u001b[0;32m    355\u001b[0m             \u001b[0mobj\u001b[0m\u001b[1;33m,\u001b[0m \u001b[0mend\u001b[0m \u001b[1;33m=\u001b[0m \u001b[0mself\u001b[0m\u001b[1;33m.\u001b[0m\u001b[0mscan_once\u001b[0m\u001b[1;33m(\u001b[0m\u001b[0ms\u001b[0m\u001b[1;33m,\u001b[0m \u001b[0midx\u001b[0m\u001b[1;33m)\u001b[0m\u001b[1;33m\u001b[0m\u001b[1;33m\u001b[0m\u001b[0m\n\u001b[0;32m    356\u001b[0m         \u001b[1;32mexcept\u001b[0m \u001b[0mStopIteration\u001b[0m \u001b[1;32mas\u001b[0m \u001b[0merr\u001b[0m\u001b[1;33m:\u001b[0m\u001b[1;33m\u001b[0m\u001b[1;33m\u001b[0m\u001b[0m\n\u001b[1;32m--> 357\u001b[1;33m             \u001b[1;32mraise\u001b[0m \u001b[0mJSONDecodeError\u001b[0m\u001b[1;33m(\u001b[0m\u001b[1;34m\"Expecting value\"\u001b[0m\u001b[1;33m,\u001b[0m \u001b[0ms\u001b[0m\u001b[1;33m,\u001b[0m \u001b[0merr\u001b[0m\u001b[1;33m.\u001b[0m\u001b[0mvalue\u001b[0m\u001b[1;33m)\u001b[0m \u001b[1;32mfrom\u001b[0m \u001b[1;32mNone\u001b[0m\u001b[1;33m\u001b[0m\u001b[1;33m\u001b[0m\u001b[0m\n\u001b[0m\u001b[0;32m    358\u001b[0m         \u001b[1;32mreturn\u001b[0m \u001b[0mobj\u001b[0m\u001b[1;33m,\u001b[0m \u001b[0mend\u001b[0m\u001b[1;33m\u001b[0m\u001b[1;33m\u001b[0m\u001b[0m\n",
            "\u001b[1;31mJSONDecodeError\u001b[0m: Expecting value: line 1 column 1 (char 0)"
          ]
        }
      ],
      "source": [
        "json.loads(line+\"]}\")"
      ]
    },
    {
      "cell_type": "code",
      "execution_count": null,
      "metadata": {
        "id": "C-uJwWWg_UXi",
        "outputId": "e27f39d0-186d-4b62-d4c7-8694ec5690b3"
      },
      "outputs": [
        {
          "ename": "AttributeError",
          "evalue": "'str' object has no attribute 'read'",
          "output_type": "error",
          "traceback": [
            "\u001b[1;31m---------------------------------------------------------------------------\u001b[0m",
            "\u001b[1;31mAttributeError\u001b[0m                            Traceback (most recent call last)",
            "\u001b[1;32m<ipython-input-50-0ffdd8c23979>\u001b[0m in \u001b[0;36m<module>\u001b[1;34m\u001b[0m\n\u001b[1;32m----> 1\u001b[1;33m \u001b[0mjson\u001b[0m\u001b[1;33m.\u001b[0m\u001b[0mload\u001b[0m\u001b[1;33m(\u001b[0m\u001b[1;34m'{\"Dfa\":\"1\",\"gjh\":\"23\"}'\u001b[0m\u001b[1;33m)\u001b[0m\u001b[1;33m\u001b[0m\u001b[1;33m\u001b[0m\u001b[0m\n\u001b[0m",
            "\u001b[1;32mC:\\Program Files (x86)\\Microsoft Visual Studio\\Shared\\Anaconda3_64\\lib\\json\\__init__.py\u001b[0m in \u001b[0;36mload\u001b[1;34m(fp, cls, object_hook, parse_float, parse_int, parse_constant, object_pairs_hook, **kw)\u001b[0m\n\u001b[0;32m    294\u001b[0m \u001b[1;33m\u001b[0m\u001b[0m\n\u001b[0;32m    295\u001b[0m     \"\"\"\n\u001b[1;32m--> 296\u001b[1;33m     return loads(fp.read(),\n\u001b[0m\u001b[0;32m    297\u001b[0m         \u001b[0mcls\u001b[0m\u001b[1;33m=\u001b[0m\u001b[0mcls\u001b[0m\u001b[1;33m,\u001b[0m \u001b[0mobject_hook\u001b[0m\u001b[1;33m=\u001b[0m\u001b[0mobject_hook\u001b[0m\u001b[1;33m,\u001b[0m\u001b[1;33m\u001b[0m\u001b[1;33m\u001b[0m\u001b[0m\n\u001b[0;32m    298\u001b[0m         \u001b[0mparse_float\u001b[0m\u001b[1;33m=\u001b[0m\u001b[0mparse_float\u001b[0m\u001b[1;33m,\u001b[0m \u001b[0mparse_int\u001b[0m\u001b[1;33m=\u001b[0m\u001b[0mparse_int\u001b[0m\u001b[1;33m,\u001b[0m\u001b[1;33m\u001b[0m\u001b[1;33m\u001b[0m\u001b[0m\n",
            "\u001b[1;31mAttributeError\u001b[0m: 'str' object has no attribute 'read'"
          ]
        }
      ],
      "source": [
        "json.load('{\"Dfa\":\"1\",\"gjh\":\"23\"}')"
      ]
    },
    {
      "cell_type": "code",
      "execution_count": null,
      "metadata": {
        "id": "XccwpoBJ_UXi",
        "outputId": "0e1a9776-63a8-46c6-f601-606609f3ef88"
      },
      "outputs": [
        {
          "data": {
            "text/plain": [
              "'] }'"
            ]
          },
          "execution_count": 187,
          "metadata": {},
          "output_type": "execute_result"
        }
      ],
      "source": [
        "line"
      ]
    },
    {
      "cell_type": "code",
      "execution_count": null,
      "metadata": {
        "id": "dkP0AukJ_UXi"
      },
      "outputs": [],
      "source": [
        "app_filing_date           = application[\"patentCaseMetadata\"][\"filingDate\"]\n",
        "app_type_category         = application[\"patentCaseMetadata\"][\"applicationTypeCategory\"]\n",
        "app_business_entity_cat   = application[\"patentCaseMetadata\"][\"businessEntityStatusCategory\"]\n",
        "app_FITFI                 = application[\"patentCaseMetadata\"][\"firstInventorToFileIndicator\"]\n",
        "app_status_cat            = application[\"patentCaseMetadata\"][\"applicationStatusCategory\"]\n",
        "app_status_date           = application[\"patentCaseMetadata\"][\"applicationStatusDate\"]\n",
        "app_file_location_cat     = application[\"patentCaseMetadata\"][\"officialFileLocationCategory\"]\n",
        "app_num_value             = application[\"patentCaseMetadata\"][\"applicationNumberText\"][\"value\"]\n",
        "app_num_electronic        = application[\"patentCaseMetadata\"][\"applicationNumberText\"][\"electronicText\"]\n",
        "\n",
        "\n",
        "\n",
        "\n",
        "app_group_art_value       = application[\"patentCaseMetadata\"][\"groupArtUnitNumber\"][\"value\"]\n",
        "app_group_art_electronic  = application[\"patentCaseMetadata\"][\"groupArtUnitNumber\"][\"electronicText\"]"
      ]
    },
    {
      "cell_type": "code",
      "execution_count": null,
      "metadata": {
        "id": "fyDKY9go_UXj",
        "outputId": "95017777-65f6-49c9-f6e4-38acf5e386ef"
      },
      "outputs": [
        {
          "ename": "KeyError",
          "evalue": "0",
          "output_type": "error",
          "traceback": [
            "\u001b[1;31m---------------------------------------------------------------------------\u001b[0m",
            "\u001b[1;31mKeyError\u001b[0m                                  Traceback (most recent call last)",
            "\u001b[1;32m<ipython-input-203-da0b27115761>\u001b[0m in \u001b[0;36m<module>\u001b[1;34m\u001b[0m\n\u001b[1;32m----> 1\u001b[1;33m \u001b[0mapplication\u001b[0m\u001b[1;33m[\u001b[0m\u001b[1;34m\"patentCaseMetadata\"\u001b[0m\u001b[1;33m]\u001b[0m\u001b[1;33m[\u001b[0m\u001b[1;34m\"partyBag\"\u001b[0m\u001b[1;33m]\u001b[0m\u001b[1;33m[\u001b[0m\u001b[1;34m\"applicantBagOrInventorBagOrOwnerBag\"\u001b[0m\u001b[1;33m]\u001b[0m\u001b[1;33m[\u001b[0m\u001b[1;36m0\u001b[0m\u001b[1;33m]\u001b[0m\u001b[1;33m[\u001b[0m\u001b[1;36m0\u001b[0m\u001b[1;33m]\u001b[0m\u001b[1;31m#[\"primaryExaminerOrAssistantExaminerOrAuthorizedOfficer\"][\"name\"][\"personNameOrOrganizationNameOrEntityName\"][\"personFullName\"]\u001b[0m\u001b[1;33m\u001b[0m\u001b[1;33m\u001b[0m\u001b[0m\n\u001b[0m",
            "\u001b[1;31mKeyError\u001b[0m: 0"
          ]
        }
      ],
      "source": [
        "application[\"patentCaseMetadata\"][\"partyBag\"][\"applicantBagOrInventorBagOrOwnerBag\"][0]#[\"primaryExaminerOrAssistantExaminerOrAuthorizedOfficer\"][\"name\"][\"personNameOrOrganizationNameOrEntityName\"][\"personFullName\"]"
      ]
    },
    {
      "cell_type": "code",
      "execution_count": null,
      "metadata": {
        "id": "EJ7DMkZH_UXj",
        "outputId": "d23ad5a1-7c2d-4afb-d5c9-1a1755f41624"
      },
      "outputs": [
        {
          "name": "stdout",
          "output_type": "stream",
          "text": [
            "1\n",
            "2\n",
            "3\n",
            "4\n"
          ]
        }
      ],
      "source": [
        "for value in application[\"patentCaseMetadata\"][\"partyBag\"][\"applicantBagOrInventorBagOrOwnerBag\"]:\n",
        "    keys = value.keys()\n",
        "    \n",
        "    keys_lookup = ['primaryExaminerOrAssistantExaminerOrAuthorizedOfficer', 'applicant', 'inventorOrDeceasedInventor', 'partyIdentifierOrContact']\n",
        "    \n",
        "    if('primaryExaminerOrAssistantExaminerOrAuthorizedOfficer' in keys):\n",
        "        print(len(value['primaryExaminerOrAssistantExaminerOrAuthorizedOfficer'][0]))\n",
        "    if('applicant' in keys):\n",
        "        print(2)\n",
        "    if('inventorOrDeceasedInventor' in keys):\n",
        "        print(3)\n",
        "    if('partyIdentifierOrContact' in keys):\n",
        "        print(4)\n",
        "        \n",
        "        "
      ]
    },
    {
      "cell_type": "code",
      "execution_count": null,
      "metadata": {
        "id": "1GiDAf0C_UXj",
        "outputId": "4ac66d5e-b6ff-478c-81b0-7d57307041a0"
      },
      "outputs": [
        {
          "ename": "KeyError",
          "evalue": "'ered'",
          "output_type": "error",
          "traceback": [
            "\u001b[1;31m---------------------------------------------------------------------------\u001b[0m",
            "\u001b[1;31mKeyError\u001b[0m                                  Traceback (most recent call last)",
            "\u001b[1;32m<ipython-input-206-f458e26b86d4>\u001b[0m in \u001b[0;36m<module>\u001b[1;34m\u001b[0m\n\u001b[1;32m----> 1\u001b[1;33m \u001b[0mvalue\u001b[0m\u001b[1;33m[\u001b[0m\u001b[1;34m\"ered\"\u001b[0m\u001b[1;33m]\u001b[0m\u001b[1;33m\u001b[0m\u001b[1;33m\u001b[0m\u001b[0m\n\u001b[0m",
            "\u001b[1;31mKeyError\u001b[0m: 'ered'"
          ]
        }
      ],
      "source": [
        "value[\"ered\"]"
      ]
    },
    {
      "cell_type": "code",
      "execution_count": null,
      "metadata": {
        "id": "AIXV17IT_UXj",
        "outputId": "985fa32d-f113-4a91-c018-9fc6f449e79a"
      },
      "outputs": [
        {
          "data": {
            "text/plain": [
              "'{\"patentCaseMetadata\": {\"applicationNumberText\": {\"value\": \"63136283\", \"electronicText\": \"63136283\"}, \"filingDate\": \"2021-01-12\", \"applicationTypeCategory\": \"Provisional\", \"partyBag\": {\"applicantBagOrInventorBagOrOwnerBag\": [{\"inventorOrDeceasedInventor\": [{\"contactOrPublicationContact\": [{\"name\": {\"personNameOrOrganizationNameOrEntityName\": [{\"personStructuredName\": {\"firstName\": \"Gary\", \"middleName\": \"M.\", \"lastName\": \"Cola\"}}]}, \"cityName\": \"Washington\", \"geographicRegionName\": {\"value\": \"MI\", \"geographicRegionCategory\": \"STATE\"}, \"countryCode\": \"US\"}]}]}]}, \"applicationConfirmationNumber\": \"8056\", \"applicantFileReference\": \"SFP A-370\", \"businessEntityStatusCategory\": \"SMALL\", \"firstInventorToFileIndicator\": \"Other\", \"inventionTitle\": {\"content\": [\"IMPACT RESISTANT PROTECTIVE MATERIALS FOR INCREASED SAFETY IN HOSTILE ENVIRONMENTS\"]}, \"officialFileLocationCategory\": \"ELECTRONIC\", \"relatedDocumentData\": {\"parentDocumentDataOrChildDocumentData\": [{\"descriptionText\": \"which is Published claims the benefit of 63136283\", \"applicationNumberText\": \"PCT/US22/20247\", \"filingDate\": \"2022-03-14\", \"childDocumentStatusCode\": \"Published\", \"patentNumber\": \"\"}]}}, \"contentResourceBag\": {\"contentResource\": [{\"officialDate\": \"2021-02-08\", \"documentCode\": \"APP.FILE.REC\", \"descriptionText\": \"Filing Receipt\", \"documentCategory\": \"PROSECUTION\", \"pageTotalQuantity\": 3}, {\"officialDate\": \"2021-01-12\", \"documentCode\": \"SCORE\", \"descriptionText\": \"Placeholder sheet indicating presence of supplemental content in Supplemental Complex Repository for Examiners(SCORE)\", \"documentCategory\": \"PROSECUTION\", \"pageTotalQuantity\": 1}, {\"officialDate\": \"2021-01-12\", \"documentCode\": \"CLM\", \"descriptionText\": \"Claims\", \"documentCategory\": \"PROSECUTION\", \"pageTotalQuantity\": 2}, {\"officialDate\": \"2021-01-12\", \"documentCode\": \"SPEC\", \"descriptionText\": \"Specification\", \"documentCategory\": \"PROSECUTION\", \"pageTotalQuantity\": 10}, {\"officialDate\": \"2021-01-12\", \"documentCode\": \"N417\", \"descriptionText\": \"Electronic Filing System(EFS) Acknowledgment Receipt\", \"documentCategory\": \"PROSECUTION\", \"pageTotalQuantity\": 3}, {\"officialDate\": \"2021-01-12\", \"documentCode\": \"SPEC\", \"descriptionText\": \"Specification\", \"documentCategory\": \"PROSECUTION\", \"pageTotalQuantity\": 12}, {\"officialDate\": \"2021-01-12\", \"documentCode\": \"DRW.NONBW\", \"descriptionText\": \"Drawings-other than black and white line drawings\", \"documentCategory\": \"PROSECUTION\", \"pageTotalQuantity\": 4}, {\"officialDate\": \"2021-01-12\", \"documentCode\": \"WFEE\", \"descriptionText\": \"Fee Worksheet (SB06)\", \"documentCategory\": \"PROSECUTION\", \"pageTotalQuantity\": 2}, {\"officialDate\": \"2021-01-12\", \"documentCode\": \"TR.PROV\", \"descriptionText\": \"Provisional Cover Sheet (SB16)\", \"documentCategory\": \"PROSECUTION\", \"pageTotalQuantity\": 3}]}, \"st96Version\": \"V4_0\", \"ipoVersion\": \"US_V9_0\"}'"
            ]
          },
          "execution_count": 365,
          "metadata": {},
          "output_type": "execute_result"
        }
      ],
      "source": [
        "json.dumps(application)"
      ]
    },
    {
      "cell_type": "code",
      "execution_count": null,
      "metadata": {
        "id": "M84Xgvy6_UXj"
      },
      "outputs": [],
      "source": [
        "d = {\"a\" : [1,2], \"b\" : [1,2], \"c\" : [[1,2,3], [9,8]]}"
      ]
    },
    {
      "cell_type": "code",
      "execution_count": null,
      "metadata": {
        "id": "UfCAUi1v_UXk"
      },
      "outputs": [],
      "source": [
        "data = pd.DataFrame(d)"
      ]
    },
    {
      "cell_type": "code",
      "execution_count": null,
      "metadata": {
        "id": "vjtbuPqI_UXk",
        "outputId": "75f1e072-c116-4fa5-deb4-32295964427a"
      },
      "outputs": [
        {
          "data": {
            "text/html": [
              "<div>\n",
              "<style scoped>\n",
              "    .dataframe tbody tr th:only-of-type {\n",
              "        vertical-align: middle;\n",
              "    }\n",
              "\n",
              "    .dataframe tbody tr th {\n",
              "        vertical-align: top;\n",
              "    }\n",
              "\n",
              "    .dataframe thead th {\n",
              "        text-align: right;\n",
              "    }\n",
              "</style>\n",
              "<table border=\"1\" class=\"dataframe\">\n",
              "  <thead>\n",
              "    <tr style=\"text-align: right;\">\n",
              "      <th></th>\n",
              "      <th>a</th>\n",
              "      <th>b</th>\n",
              "      <th>c</th>\n",
              "    </tr>\n",
              "  </thead>\n",
              "  <tbody>\n",
              "    <tr>\n",
              "      <th>0</th>\n",
              "      <td>1</td>\n",
              "      <td>1</td>\n",
              "      <td>[1, 2, 3]</td>\n",
              "    </tr>\n",
              "    <tr>\n",
              "      <th>1</th>\n",
              "      <td>2</td>\n",
              "      <td>2</td>\n",
              "      <td>[9, 8]</td>\n",
              "    </tr>\n",
              "  </tbody>\n",
              "</table>\n",
              "</div>"
            ],
            "text/plain": [
              "   a  b          c\n",
              "0  1  1  [1, 2, 3]\n",
              "1  2  2     [9, 8]"
            ]
          },
          "execution_count": 344,
          "metadata": {},
          "output_type": "execute_result"
        }
      ],
      "source": [
        "data"
      ]
    },
    {
      "cell_type": "code",
      "execution_count": null,
      "metadata": {
        "id": "FolwpyRQ_UXk",
        "outputId": "e5cf7ec0-5e1f-48f8-b8f3-966374adba0d"
      },
      "outputs": [
        {
          "ename": "TypeError",
          "evalue": "explode() missing 1 required positional argument: 'column'",
          "output_type": "error",
          "traceback": [
            "\u001b[1;31m---------------------------------------------------------------------------\u001b[0m",
            "\u001b[1;31mTypeError\u001b[0m                                 Traceback (most recent call last)",
            "\u001b[1;32m<ipython-input-349-fb3dbf6a31a7>\u001b[0m in \u001b[0;36m<module>\u001b[1;34m\u001b[0m\n\u001b[1;32m----> 1\u001b[1;33m \u001b[0mdata\u001b[0m\u001b[1;33m[\u001b[0m\u001b[1;33m[\u001b[0m\u001b[1;34m\"a\"\u001b[0m\u001b[1;33m,\u001b[0m \u001b[1;34m\"c\"\u001b[0m\u001b[1;33m]\u001b[0m\u001b[1;33m]\u001b[0m\u001b[1;33m.\u001b[0m\u001b[0mexplode\u001b[0m\u001b[1;33m(\u001b[0m\u001b[1;33m)\u001b[0m\u001b[1;33m\u001b[0m\u001b[1;33m\u001b[0m\u001b[0m\n\u001b[0m",
            "\u001b[1;31mTypeError\u001b[0m: explode() missing 1 required positional argument: 'column'"
          ]
        }
      ],
      "source": [
        "data[[\"a\", \"c\"]].explode()"
      ]
    },
    {
      "cell_type": "code",
      "execution_count": null,
      "metadata": {
        "id": "Ok5vCptc_UXk",
        "outputId": "302df468-1cd6-4758-d139-aecac1ef9cdc"
      },
      "outputs": [
        {
          "data": {
            "text/plain": [
              "{'patentCaseMetadata': {'applicationNumberText': {'value': '63295693',\n",
              "   'electronicText': '63295693'},\n",
              "  'filingDate': '2021-12-31',\n",
              "  'applicationTypeCategory': 'Provisional',\n",
              "  'partyBag': {'applicantBagOrInventorBagOrOwnerBag': [{'inventorOrDeceasedInventor': [{'contactOrPublicationContact': [{'name': {'personNameOrOrganizationNameOrEntityName': [{'personStructuredName': {'firstName': 'Pierre',\n",
              "             'middleName': '',\n",
              "             'lastName': 'Franquin'}}]},\n",
              "         'cityName': 'Lexington',\n",
              "         'geographicRegionName': {'value': 'MA',\n",
              "          'geographicRegionCategory': 'STATE'},\n",
              "         'countryCode': 'US'}]},\n",
              "      {'contactOrPublicationContact': [{'name': {'personNameOrOrganizationNameOrEntityName': [{'personStructuredName': {'firstName': 'Ken',\n",
              "             'middleName': '',\n",
              "             'lastName': 'Krigelman'}}]},\n",
              "         'cityName': 'Lexington',\n",
              "         'geographicRegionName': {'value': 'MA',\n",
              "          'geographicRegionCategory': 'STATE'},\n",
              "         'countryCode': 'US'}]},\n",
              "      {'contactOrPublicationContact': [{'name': {'personNameOrOrganizationNameOrEntityName': [{'personStructuredName': {'firstName': 'Andy',\n",
              "             'middleName': '',\n",
              "             'lastName': 'Schon'}}]},\n",
              "         'cityName': 'Lexington',\n",
              "         'geographicRegionName': {'value': 'MA',\n",
              "          'geographicRegionCategory': 'STATE'},\n",
              "         'countryCode': 'US'}]},\n",
              "      {'contactOrPublicationContact': [{'name': {'personNameOrOrganizationNameOrEntityName': [{'personStructuredName': {'firstName': 'Justin',\n",
              "             'middleName': '',\n",
              "             'lastName': 'Voshell'}}]},\n",
              "         'cityName': 'Lexington',\n",
              "         'geographicRegionName': {'value': 'MA',\n",
              "          'geographicRegionCategory': 'STATE'},\n",
              "         'countryCode': 'US'}]}]},\n",
              "    {'partyIdentifierOrContact': [{'name': {'personNameOrOrganizationNameOrEntityName': [{'personStructuredName': {'lastName': 'WOLF GREENFIELD & SACKS, P.C.'}}]},\n",
              "       'postalAddressBag': {'postalAddress': [{'postalStructuredAddress': {'addressLineText': [{'value': '600 ATLANTIC AVENUE'}],\n",
              "           'cityName': 'BOSTON',\n",
              "           'geographicRegionName': [{'value': 'MA'}],\n",
              "           'countryCode': 'US',\n",
              "           'postalCode': '02210-2206'}}]}},\n",
              "      {'value': '23628'}]}]},\n",
              "  'applicationConfirmationNumber': '2888',\n",
              "  'applicantFileReference': 'A1041.70068US01',\n",
              "  'businessEntityStatusCategory': 'UNDISCOUNTED',\n",
              "  'firstInventorToFileIndicator': 'Other',\n",
              "  'inventionTitle': {'content': ['DATA GOVERNANCE SYSTEMS AND METHODS']},\n",
              "  'officialFileLocationCategory': 'ELECTRONIC',\n",
              "  'relatedDocumentData': {'parentDocumentDataOrChildDocumentData': [{'descriptionText': 'which is Pending claims the benefit of 63295693',\n",
              "     'applicationNumberText': '17834492',\n",
              "     'filingDate': '2022-06-07',\n",
              "     'childDocumentStatusCode': 'Pending',\n",
              "     'patentNumber': ''},\n",
              "    {'descriptionText': 'which is Published claims the benefit of 63295693',\n",
              "     'applicationNumberText': 'PCT/US22/32485',\n",
              "     'filingDate': '2022-06-07',\n",
              "     'childDocumentStatusCode': 'Published',\n",
              "     'patentNumber': ''}]}},\n",
              " 'prosecutionHistoryDataBag': {'prosecutionHistoryData': [{'eventDate': '2022-01-10',\n",
              "    'eventCode': 'EML_NTR',\n",
              "    'eventDescriptionText': 'Email Notification'},\n",
              "   {'eventDate': '2022-01-08',\n",
              "    'eventCode': 'CCRDY',\n",
              "    'eventDescriptionText': 'Application ready for PDX access by participating foreign offices'},\n",
              "   {'eventDate': '2022-01-07',\n",
              "    'eventCode': 'OIPE',\n",
              "    'eventDescriptionText': 'Application Dispatched from OIPE'},\n",
              "   {'eventDate': '2022-01-10',\n",
              "    'eventCode': 'COMP',\n",
              "    'eventDescriptionText': 'Application Is Now Complete'},\n",
              "   {'eventDate': '2022-01-10',\n",
              "    'eventCode': 'FLRCPT.O',\n",
              "    'eventDescriptionText': 'Filing Receipt'},\n",
              "   {'eventDate': '2021-12-31',\n",
              "    'eventCode': 'SREXR141',\n",
              "    'eventDescriptionText': 'PTO/SB/69-Authorize EPO Access to Search Results'},\n",
              "   {'eventDate': '2021-12-31',\n",
              "    'eventCode': 'APPERMS',\n",
              "    'eventDescriptionText': 'Applicants have given acceptable permission for participating foreign '},\n",
              "   {'eventDate': '2021-12-31',\n",
              "    'eventCode': 'BIG.',\n",
              "    'eventDescriptionText': 'Entity Status Set To Undiscounted (Initial Default Setting or Status Change)'},\n",
              "   {'eventDate': '2021-12-31',\n",
              "    'eventCode': 'IEXX',\n",
              "    'eventDescriptionText': 'Initial Exam Team nn'}]},\n",
              " 'assignmentDataBag': {'assignmentData': [{'reelNumber': '59422',\n",
              "    'frameNumber': '178',\n",
              "    'documentReceivedDate': '03-29-2022',\n",
              "    'recordedDate': '03-29-2022',\n",
              "    'mailDate': '03-30-2022',\n",
              "    'pageTotalQuantity': 8,\n",
              "    'conveyanceText': 'ASSIGNMENT OF ASSIGNORS INTEREST (SEE DOCUMENT FOR DETAILS).',\n",
              "    'assignorBag': {'assignor': [{'executionDate': '02-14-2022',\n",
              "       'contactOrPublicationContact': [{'name': {'personNameOrOrganizationNameOrEntityName': [{'value': 'FRANQUIN, PIERRE'}]}}]},\n",
              "      {'executionDate': '01-27-2022',\n",
              "       'contactOrPublicationContact': [{'name': {'personNameOrOrganizationNameOrEntityName': [{'value': 'KRIGELMAN, KEN'}]}}]},\n",
              "      {'executionDate': '03-18-2022',\n",
              "       'contactOrPublicationContact': [{'name': {'personNameOrOrganizationNameOrEntityName': [{'value': 'SCHON, ANDY'}]}}]},\n",
              "      {'executionDate': '02-25-2022',\n",
              "       'contactOrPublicationContact': [{'name': {'personNameOrOrganizationNameOrEntityName': [{'value': 'VOSHELL, JUSTIN'}]}}]}]},\n",
              "    'assigneeBag': {'assignee': [{'contactOrPublicationContact': [{'name': {'personNameOrOrganizationNameOrEntityName': [{'value': 'AB INITIO SOFTWARE LLC'}]},\n",
              "         'postalAddressBag': {'postalAddress': [{'postalAddressText': [{'sequenceNumber': '1',\n",
              "              'value': '201 SPRING STREET'},\n",
              "             {'sequenceNumber': '2',\n",
              "              'value': 'LEXINGTON MASSACHUSETTS 02421'}]}]}}]}]},\n",
              "    'correspondenceAddress': {'partyIdentifierOrContact': [{'name': {'personNameOrOrganizationNameOrEntityName': [{'value': 'DANIEL G. RUDOY'}]},\n",
              "       'postalAddressBag': {'postalAddress': [{'postalAddressText': [{'sequenceNumber': '1',\n",
              "            'value': 'WOLF, GREENFIELD & SACKS, P.C.'},\n",
              "           {'sequenceNumber': '2', 'value': '600 ATLANTIC AVENUE'},\n",
              "           {'sequenceNumber': '3', 'value': 'BOSTON, MA 02210'}]}]}}]},\n",
              "    'sequenceNumber': '2'},\n",
              "   {'reelNumber': '59422',\n",
              "    'frameNumber': '232',\n",
              "    'documentReceivedDate': '03-29-2022',\n",
              "    'recordedDate': '03-29-2022',\n",
              "    'mailDate': '03-30-2022',\n",
              "    'pageTotalQuantity': 2,\n",
              "    'conveyanceText': 'ASSIGNMENT OF ASSIGNORS INTEREST (SEE DOCUMENT FOR DETAILS).',\n",
              "    'assignorBag': {'assignor': [{'executionDate': '03-18-2022',\n",
              "       'contactOrPublicationContact': [{'name': {'personNameOrOrganizationNameOrEntityName': [{'value': 'AB INITIO SOFTWARE LLC'}]}}]}]},\n",
              "    'assigneeBag': {'assignee': [{'contactOrPublicationContact': [{'name': {'personNameOrOrganizationNameOrEntityName': [{'value': 'AB INITIO ORIGINAL WORKS LLC'}]},\n",
              "         'postalAddressBag': {'postalAddress': [{'postalAddressText': [{'sequenceNumber': '1',\n",
              "              'value': '201 SPRING STREET'},\n",
              "             {'sequenceNumber': '2',\n",
              "              'value': 'LEXINGTON MASSACHUSETTS 02421'}]}]}}]}]},\n",
              "    'correspondenceAddress': {'partyIdentifierOrContact': [{'name': {'personNameOrOrganizationNameOrEntityName': [{'value': 'DANIEL G. RUDOY'}]},\n",
              "       'postalAddressBag': {'postalAddress': [{'postalAddressText': [{'sequenceNumber': '1',\n",
              "            'value': 'WOLF, GREENFIELD & SACKS, P.C.'},\n",
              "           {'sequenceNumber': '2', 'value': '600 ATLANTIC AVENUE'},\n",
              "           {'sequenceNumber': '3', 'value': 'BOSTON, MA 02210'}]}]}}]},\n",
              "    'sequenceNumber': '2'},\n",
              "   {'reelNumber': '59422',\n",
              "    'frameNumber': '258',\n",
              "    'documentReceivedDate': '03-29-2022',\n",
              "    'recordedDate': '03-29-2022',\n",
              "    'mailDate': '03-30-2022',\n",
              "    'pageTotalQuantity': 2,\n",
              "    'conveyanceText': 'ASSIGNMENT OF ASSIGNORS INTEREST (SEE DOCUMENT FOR DETAILS).',\n",
              "    'assignorBag': {'assignor': [{'executionDate': '03-18-2022',\n",
              "       'contactOrPublicationContact': [{'name': {'personNameOrOrganizationNameOrEntityName': [{'value': 'AB INITIO ORIGINAL WORKS LLC'}]}}]}]},\n",
              "    'assigneeBag': {'assignee': [{'contactOrPublicationContact': [{'name': {'personNameOrOrganizationNameOrEntityName': [{'value': 'AB INITIO TECHNOLOGY LLC'}]},\n",
              "         'postalAddressBag': {'postalAddress': [{'postalAddressText': [{'sequenceNumber': '1',\n",
              "              'value': '201 SPRING STREET'},\n",
              "             {'sequenceNumber': '2',\n",
              "              'value': 'LEXINGTON MASSACHUSETTS 02421'}]}]}}]}]},\n",
              "    'correspondenceAddress': {'partyIdentifierOrContact': [{'name': {'personNameOrOrganizationNameOrEntityName': [{'value': 'DANIEL G. RUDOY'}]},\n",
              "       'postalAddressBag': {'postalAddress': [{'postalAddressText': [{'sequenceNumber': '1',\n",
              "            'value': 'WOLF, GREENFIELD & SACKS, P.C.'},\n",
              "           {'sequenceNumber': '2', 'value': '600 ATLANTIC AVENUE'},\n",
              "           {'sequenceNumber': '3', 'value': 'BOSTON, MA 02210'}]}]}}]},\n",
              "    'sequenceNumber': '2'}],\n",
              "  'assignmentTotalQuantity': 3},\n",
              " 'st96Version': 'V4_0',\n",
              " 'ipoVersion': 'US_V9_0'}"
            ]
          },
          "execution_count": 302,
          "metadata": {},
          "output_type": "execute_result"
        }
      ],
      "source": [
        "application"
      ]
    },
    {
      "cell_type": "code",
      "execution_count": null,
      "metadata": {
        "id": "5ZivYI7e_UXk"
      },
      "outputs": [],
      "source": [
        "p = [{'eventDate': '2021-12-31',\n",
        "    'eventCode': 'SREXR141',\n",
        "    'eventDescriptionText': 'PTO/SB/69-Authorize EPO Access to Search Results'},\n",
        "   {'eventDate': '2021-12-31',\n",
        "    'eventCode': 'APPERMS',\n",
        "    'eventDescriptionText': 'Applicants have given acceptable permission for participating foreign '},\n",
        "   {'eventDate': '2021-12-31',\n",
        "#     'eventCode': 'BIG.',\n",
        "    'eventDescriptionText': 'Entity Status Set To Undiscounted (Initial Default Setting or Status Change)'},\n",
        "   {'eventDate': '2021-12-31',\n",
        "    'eventCode': 'IEXX',\n",
        "    'eventDescriptionText': 'Initial Exam Team nn'}]"
      ]
    },
    {
      "cell_type": "code",
      "execution_count": null,
      "metadata": {
        "id": "1YBIPR_l_UXk"
      },
      "outputs": [],
      "source": [
        "prosecutionEventCode = []\n",
        "prosecutionDate = []\n",
        "prosecutionEventDescription = []\n",
        "\n",
        "for e in p:\n",
        "    \n",
        "    eventCode = e.get(\"eventCode\")\n",
        "    if(eventCode != None):\n",
        "        prosecutionEventCode.append(eventCode)\n",
        "    else :\n",
        "        prosecutionEventCode.append(np.nan)\n",
        "    \n",
        "    \n",
        "    eventDate = e.get(\"eventDate\")\n",
        "    if(eventDate != None):\n",
        "        prosecutionDate.append(eventDate)\n",
        "    else :\n",
        "        prosecutionDate.append(np.nan)\n",
        "        \n",
        "    eventDescriptionText = e.get(\"eventDescriptionText\")\n",
        "    if(eventDescriptionText != None):\n",
        "        prosecutionEventDescription.append(eventDescriptionText)\n",
        "    else :\n",
        "        prosecutionEventDescription.append(np.nan)\n",
        "    \n",
        "    \n",
        "    \n",
        "#     print(e[\"eventDate\"], e[\"eventCode\"], e[\"eventDescriptionText\"])"
      ]
    },
    {
      "cell_type": "code",
      "execution_count": null,
      "metadata": {
        "id": "fsuy_B4y_UXl"
      },
      "outputs": [],
      "source": [
        "d = {\"a\" : 1\n",
        "     , \"b\" : 1\n",
        "     , \"prosecutionEventCode\" : prosecutionEventCode\n",
        "     , \"prosecutionDate\" : prosecutionDate\n",
        "     , \"eventDescriptionText\" : eventDescriptionText}"
      ]
    },
    {
      "cell_type": "code",
      "execution_count": null,
      "metadata": {
        "id": "amFcglYO_UXl"
      },
      "outputs": [],
      "source": [
        "data = pd.DataFrame(d, )"
      ]
    },
    {
      "cell_type": "code",
      "execution_count": null,
      "metadata": {
        "id": "AeGAeEqG_UXl",
        "outputId": "8a71b211-8883-43b0-c6e8-dd8d3dfff1cd"
      },
      "outputs": [
        {
          "data": {
            "text/html": [
              "<div>\n",
              "<style scoped>\n",
              "    .dataframe tbody tr th:only-of-type {\n",
              "        vertical-align: middle;\n",
              "    }\n",
              "\n",
              "    .dataframe tbody tr th {\n",
              "        vertical-align: top;\n",
              "    }\n",
              "\n",
              "    .dataframe thead th {\n",
              "        text-align: right;\n",
              "    }\n",
              "</style>\n",
              "<table border=\"1\" class=\"dataframe\">\n",
              "  <thead>\n",
              "    <tr style=\"text-align: right;\">\n",
              "      <th></th>\n",
              "      <th>a</th>\n",
              "      <th>b</th>\n",
              "      <th>prosecutionEventCode</th>\n",
              "      <th>prosecutionDate</th>\n",
              "      <th>eventDescriptionText</th>\n",
              "    </tr>\n",
              "  </thead>\n",
              "  <tbody>\n",
              "    <tr>\n",
              "      <th>0</th>\n",
              "      <td>1</td>\n",
              "      <td>1</td>\n",
              "      <td>SREXR141</td>\n",
              "      <td>2021-12-31</td>\n",
              "      <td>Initial Exam Team nn</td>\n",
              "    </tr>\n",
              "    <tr>\n",
              "      <th>1</th>\n",
              "      <td>1</td>\n",
              "      <td>1</td>\n",
              "      <td>APPERMS</td>\n",
              "      <td>2021-12-31</td>\n",
              "      <td>Initial Exam Team nn</td>\n",
              "    </tr>\n",
              "    <tr>\n",
              "      <th>2</th>\n",
              "      <td>1</td>\n",
              "      <td>1</td>\n",
              "      <td>NaN</td>\n",
              "      <td>2021-12-31</td>\n",
              "      <td>Initial Exam Team nn</td>\n",
              "    </tr>\n",
              "    <tr>\n",
              "      <th>3</th>\n",
              "      <td>1</td>\n",
              "      <td>1</td>\n",
              "      <td>IEXX</td>\n",
              "      <td>2021-12-31</td>\n",
              "      <td>Initial Exam Team nn</td>\n",
              "    </tr>\n",
              "  </tbody>\n",
              "</table>\n",
              "</div>"
            ],
            "text/plain": [
              "   a  b prosecutionEventCode prosecutionDate  eventDescriptionText\n",
              "0  1  1             SREXR141      2021-12-31  Initial Exam Team nn\n",
              "1  1  1              APPERMS      2021-12-31  Initial Exam Team nn\n",
              "2  1  1                  NaN      2021-12-31  Initial Exam Team nn\n",
              "3  1  1                 IEXX      2021-12-31  Initial Exam Team nn"
            ]
          },
          "execution_count": 327,
          "metadata": {},
          "output_type": "execute_result"
        }
      ],
      "source": [
        "data"
      ]
    },
    {
      "cell_type": "code",
      "execution_count": null,
      "metadata": {
        "id": "WEXspjqS_UXl",
        "outputId": "6a0627ff-ea52-485d-f7df-8ab62b4cc04b"
      },
      "outputs": [
        {
          "data": {
            "text/plain": [
              "0    False\n",
              "1    False\n",
              "2     True\n",
              "3    False\n",
              "Name: prosecutionEventCode, dtype: bool"
            ]
          },
          "execution_count": 328,
          "metadata": {},
          "output_type": "execute_result"
        }
      ],
      "source": [
        "data[\"prosecutionEventCode\"].isna()"
      ]
    },
    {
      "cell_type": "code",
      "execution_count": null,
      "metadata": {
        "id": "76wOvgeP_UXl",
        "outputId": "e8671914-8585-46e3-cbcc-c0ef7ee2a9f3"
      },
      "outputs": [
        {
          "ename": "TypeError",
          "evalue": "'float' object is not callable",
          "output_type": "error",
          "traceback": [
            "\u001b[1;31m---------------------------------------------------------------------------\u001b[0m",
            "\u001b[1;31mTypeError\u001b[0m                                 Traceback (most recent call last)",
            "\u001b[1;32m<ipython-input-320-926c237db311>\u001b[0m in \u001b[0;36m<module>\u001b[1;34m\u001b[0m\n\u001b[1;32m----> 1\u001b[1;33m \u001b[0mtype\u001b[0m\u001b[1;33m(\u001b[0m\u001b[0mnp\u001b[0m\u001b[1;33m.\u001b[0m\u001b[0mnan\u001b[0m\u001b[1;33m(\u001b[0m\u001b[1;33m)\u001b[0m\u001b[1;33m)\u001b[0m\u001b[1;33m\u001b[0m\u001b[1;33m\u001b[0m\u001b[0m\n\u001b[0m",
            "\u001b[1;31mTypeError\u001b[0m: 'float' object is not callable"
          ]
        }
      ],
      "source": [
        "type(np.nan())"
      ]
    },
    {
      "cell_type": "code",
      "execution_count": null,
      "metadata": {
        "id": "uVoqhG84_UXl"
      },
      "outputs": [],
      "source": [
        "examiner_name"
      ]
    },
    {
      "cell_type": "code",
      "execution_count": null,
      "metadata": {
        "id": "ofit-Vlz_UXm",
        "outputId": "c6c61fda-327c-422d-beb6-fdf176893330"
      },
      "outputs": [
        {
          "data": {
            "text/plain": [
              "NoneType"
            ]
          },
          "execution_count": 331,
          "metadata": {},
          "output_type": "execute_result"
        }
      ],
      "source": [
        "type(examiner_name)"
      ]
    },
    {
      "cell_type": "code",
      "execution_count": null,
      "metadata": {
        "id": "03fU7KjP_UXm",
        "outputId": "ef96d17c-0ad9-40ba-9208-5f3d00e83bec"
      },
      "outputs": [
        {
          "data": {
            "text/html": [
              "<div>\n",
              "<style scoped>\n",
              "    .dataframe tbody tr th:only-of-type {\n",
              "        vertical-align: middle;\n",
              "    }\n",
              "\n",
              "    .dataframe tbody tr th {\n",
              "        vertical-align: top;\n",
              "    }\n",
              "\n",
              "    .dataframe thead th {\n",
              "        text-align: right;\n",
              "    }\n",
              "</style>\n",
              "<table border=\"1\" class=\"dataframe\">\n",
              "  <thead>\n",
              "    <tr style=\"text-align: right;\">\n",
              "      <th></th>\n",
              "      <th>app_filing_date</th>\n",
              "      <th>app_type_category</th>\n",
              "      <th>app_business_entity_cat</th>\n",
              "      <th>app_FITFI</th>\n",
              "      <th>app_status_cat</th>\n",
              "      <th>app_status_date</th>\n",
              "      <th>app_file_location_cat</th>\n",
              "      <th>app_num_value</th>\n",
              "      <th>app_num_electronic</th>\n",
              "      <th>app_group_art_value</th>\n",
              "      <th>app_group_art_electronic</th>\n",
              "      <th>examiner_name</th>\n",
              "      <th>prosecutionDate</th>\n",
              "      <th>prosecutionEventCode</th>\n",
              "      <th>prosecutionEventDescription</th>\n",
              "    </tr>\n",
              "  </thead>\n",
              "  <tbody>\n",
              "    <tr>\n",
              "      <th>0</th>\n",
              "      <td>2021-01-01</td>\n",
              "      <td>Utility</td>\n",
              "      <td>SMALL</td>\n",
              "      <td>true</td>\n",
              "      <td>Non Final Action Mailed</td>\n",
              "      <td>2022-07-29</td>\n",
              "      <td>ELECTRONIC</td>\n",
              "      <td>17139999</td>\n",
              "      <td>17139999</td>\n",
              "      <td>1629</td>\n",
              "      <td>1629</td>\n",
              "      <td>ANDERSON, JAMES D</td>\n",
              "      <td>[2022-08-02, 2022-08-02, 2022-08-02, 2022-07-2...</td>\n",
              "      <td>[ELC_RVW, EML_NTF, MCTRS, CTRS, DOCK, DOCK, EM...</td>\n",
              "      <td>[Electronic Review, Email Notification, Mail R...</td>\n",
              "    </tr>\n",
              "    <tr>\n",
              "      <th>1</th>\n",
              "      <td>2021-01-01</td>\n",
              "      <td>Utility</td>\n",
              "      <td>UNDISCOUNTED</td>\n",
              "      <td>true</td>\n",
              "      <td>Docketed New Case - Ready for Examination</td>\n",
              "      <td>2021-08-21</td>\n",
              "      <td>ELECTRONIC</td>\n",
              "      <td>17140004</td>\n",
              "      <td>17140004</td>\n",
              "      <td>OPAP</td>\n",
              "      <td>OPAP</td>\n",
              "      <td>CENTRAL, DOCKET</td>\n",
              "      <td>[2022-07-27, 2022-07-27, 2022-07-07, 2022-07-0...</td>\n",
              "      <td>[M844, WIDS, CCRDY, PG-ISSUE, DOCK, M844, WIDS...</td>\n",
              "      <td>[Information Disclosure Statement (IDS) Filed,...</td>\n",
              "    </tr>\n",
              "    <tr>\n",
              "      <th>2</th>\n",
              "      <td>2021-01-01</td>\n",
              "      <td>Utility</td>\n",
              "      <td>SMALL</td>\n",
              "      <td>true</td>\n",
              "      <td>Non Final Action Mailed</td>\n",
              "      <td>2022-11-28</td>\n",
              "      <td>ELECTRONIC</td>\n",
              "      <td>17140001</td>\n",
              "      <td>17140001</td>\n",
              "      <td>3774</td>\n",
              "      <td>3774</td>\n",
              "      <td>PREBILIC, PAUL B</td>\n",
              "      <td>[2022-11-30, 2022-11-30, 2022-11-30, 2022-11-2...</td>\n",
              "      <td>[ELC_RVW, EML_NTF, MCTRS, CTRS, DOCK, DOCK, EM...</td>\n",
              "      <td>[Electronic Review, Email Notification, Mail R...</td>\n",
              "    </tr>\n",
              "    <tr>\n",
              "      <th>3</th>\n",
              "      <td>2021-01-01</td>\n",
              "      <td>Utility</td>\n",
              "      <td>SMALL</td>\n",
              "      <td>true</td>\n",
              "      <td>Docketed New Case - Ready for Examination</td>\n",
              "      <td>2021-08-21</td>\n",
              "      <td>ELECTRONIC</td>\n",
              "      <td>17140012</td>\n",
              "      <td>17140012</td>\n",
              "      <td>OPAP</td>\n",
              "      <td>OPAP</td>\n",
              "      <td>CENTRAL, DOCKET</td>\n",
              "      <td>[2022-07-08, 2022-07-07, 2022-07-07, 2021-08-2...</td>\n",
              "      <td>[EML_NTR, CCRDY, PG-ISSUE, DOCK, OIPE, EML_NTR...</td>\n",
              "      <td>[Email Notification, Application ready for PDX...</td>\n",
              "    </tr>\n",
              "    <tr>\n",
              "      <th>4</th>\n",
              "      <td>2021-01-01</td>\n",
              "      <td>Utility</td>\n",
              "      <td>SMALL</td>\n",
              "      <td>true</td>\n",
              "      <td>Docketed New Case - Ready for Examination</td>\n",
              "      <td>2021-08-21</td>\n",
              "      <td>ELECTRONIC</td>\n",
              "      <td>17140015</td>\n",
              "      <td>17140015</td>\n",
              "      <td>OPAP</td>\n",
              "      <td>OPAP</td>\n",
              "      <td>CENTRAL, DOCKET</td>\n",
              "      <td>[2021-08-21, 2021-07-29, 2021-07-29, 2021-01-2...</td>\n",
              "      <td>[DOCK, CCRDY, PG-ISSUE, OIPE, PGPC, FTFS, PTA....</td>\n",
              "      <td>[Case Docketed to Examiner in GAU, Application...</td>\n",
              "    </tr>\n",
              "    <tr>\n",
              "      <th>...</th>\n",
              "      <td>...</td>\n",
              "      <td>...</td>\n",
              "      <td>...</td>\n",
              "      <td>...</td>\n",
              "      <td>...</td>\n",
              "      <td>...</td>\n",
              "      <td>...</td>\n",
              "      <td>...</td>\n",
              "      <td>...</td>\n",
              "      <td>...</td>\n",
              "      <td>...</td>\n",
              "      <td>...</td>\n",
              "      <td>...</td>\n",
              "      <td>...</td>\n",
              "      <td>...</td>\n",
              "    </tr>\n",
              "    <tr>\n",
              "      <th>11856</th>\n",
              "      <td>2021-01-12</td>\n",
              "      <td>Provisional</td>\n",
              "      <td>SMALL</td>\n",
              "      <td>Other</td>\n",
              "      <td>Provisional Application Expired</td>\n",
              "      <td>2022-01-16</td>\n",
              "      <td>ELECTRONIC</td>\n",
              "      <td>63136268</td>\n",
              "      <td>63136268</td>\n",
              "      <td>2921</td>\n",
              "      <td>2921</td>\n",
              "      <td>NaN</td>\n",
              "      <td>[2022-01-16, 2021-12-08, 2021-12-08, 2021-01-1...</td>\n",
              "      <td>[EXPRO, EML_NTR, PA.., EML_NTR, CCRDY, OIPE, C...</td>\n",
              "      <td>[EXPIRED PROVISIONAL, Email Notification, Chan...</td>\n",
              "    </tr>\n",
              "    <tr>\n",
              "      <th>11857</th>\n",
              "      <td>2021-01-12</td>\n",
              "      <td>Provisional</td>\n",
              "      <td>SMALL</td>\n",
              "      <td>Other</td>\n",
              "      <td>Provisional Application Expired</td>\n",
              "      <td>2022-01-16</td>\n",
              "      <td>ELECTRONIC</td>\n",
              "      <td>63136281</td>\n",
              "      <td>63136281</td>\n",
              "      <td>2921</td>\n",
              "      <td>2921</td>\n",
              "      <td>NaN</td>\n",
              "      <td>[2022-01-16, 2021-01-15, 2021-01-15, 2021-01-1...</td>\n",
              "      <td>[EXPRO, EML_NTR, CCRDY, OIPE, COMP, FLRCPT.O, ...</td>\n",
              "      <td>[EXPIRED PROVISIONAL, Email Notification, Appl...</td>\n",
              "    </tr>\n",
              "    <tr>\n",
              "      <th>11858</th>\n",
              "      <td>2021-01-12</td>\n",
              "      <td>Provisional</td>\n",
              "      <td>UNDISCOUNTED</td>\n",
              "      <td>Other</td>\n",
              "      <td>Provisional Application Expired</td>\n",
              "      <td>2022-01-16</td>\n",
              "      <td>ELECTRONIC</td>\n",
              "      <td>63136281</td>\n",
              "      <td>63136281</td>\n",
              "      <td>2921</td>\n",
              "      <td>2921</td>\n",
              "      <td>NaN</td>\n",
              "      <td>[2022-01-16, 2021-01-14, 2021-01-14, 2021-01-1...</td>\n",
              "      <td>[EXPRO, EML_NTR, CCRDY, OIPE, COMP, FLRCPT.O, ...</td>\n",
              "      <td>[EXPIRED PROVISIONAL, Email Notification, Appl...</td>\n",
              "    </tr>\n",
              "    <tr>\n",
              "      <th>11859</th>\n",
              "      <td>2021-01-12</td>\n",
              "      <td>Provisional</td>\n",
              "      <td>UNDISCOUNTED</td>\n",
              "      <td>Other</td>\n",
              "      <td>Provisional Application Expired</td>\n",
              "      <td>2022-01-16</td>\n",
              "      <td>ELECTRONIC</td>\n",
              "      <td>63136275</td>\n",
              "      <td>63136275</td>\n",
              "      <td>2921</td>\n",
              "      <td>2921</td>\n",
              "      <td>NaN</td>\n",
              "      <td>[2022-01-16, 2021-04-23, 2021-04-23, 2021-04-2...</td>\n",
              "      <td>[EXPRO, EML_NTR, CCRDY, OIPE, COMP, FLRCPT.O, ...</td>\n",
              "      <td>[EXPIRED PROVISIONAL, Email Notification, Appl...</td>\n",
              "    </tr>\n",
              "    <tr>\n",
              "      <th>11860</th>\n",
              "      <td>2021-01-12</td>\n",
              "      <td>Provisional</td>\n",
              "      <td>UNDISCOUNTED</td>\n",
              "      <td>Other</td>\n",
              "      <td>Provisional Application Expired</td>\n",
              "      <td>2022-01-16</td>\n",
              "      <td>ELECTRONIC</td>\n",
              "      <td>63136289</td>\n",
              "      <td>63136289</td>\n",
              "      <td>2921</td>\n",
              "      <td>2921</td>\n",
              "      <td>NaN</td>\n",
              "      <td>[2022-01-16, 2021-01-15, 2021-01-15, 2021-01-1...</td>\n",
              "      <td>[EXPRO, EML_NTR, CCRDY, OIPE, COMP, FLRCPT.O, ...</td>\n",
              "      <td>[EXPIRED PROVISIONAL, Email Notification, Appl...</td>\n",
              "    </tr>\n",
              "  </tbody>\n",
              "</table>\n",
              "<p>11861 rows × 15 columns</p>\n",
              "</div>"
            ],
            "text/plain": [
              "      app_filing_date app_type_category app_business_entity_cat app_FITFI  \\\n",
              "0          2021-01-01           Utility                   SMALL      true   \n",
              "1          2021-01-01           Utility            UNDISCOUNTED      true   \n",
              "2          2021-01-01           Utility                   SMALL      true   \n",
              "3          2021-01-01           Utility                   SMALL      true   \n",
              "4          2021-01-01           Utility                   SMALL      true   \n",
              "...               ...               ...                     ...       ...   \n",
              "11856      2021-01-12       Provisional                   SMALL     Other   \n",
              "11857      2021-01-12       Provisional                   SMALL     Other   \n",
              "11858      2021-01-12       Provisional            UNDISCOUNTED     Other   \n",
              "11859      2021-01-12       Provisional            UNDISCOUNTED     Other   \n",
              "11860      2021-01-12       Provisional            UNDISCOUNTED     Other   \n",
              "\n",
              "                                  app_status_cat app_status_date  \\\n",
              "0                        Non Final Action Mailed      2022-07-29   \n",
              "1      Docketed New Case - Ready for Examination      2021-08-21   \n",
              "2                        Non Final Action Mailed      2022-11-28   \n",
              "3      Docketed New Case - Ready for Examination      2021-08-21   \n",
              "4      Docketed New Case - Ready for Examination      2021-08-21   \n",
              "...                                          ...             ...   \n",
              "11856            Provisional Application Expired      2022-01-16   \n",
              "11857            Provisional Application Expired      2022-01-16   \n",
              "11858            Provisional Application Expired      2022-01-16   \n",
              "11859            Provisional Application Expired      2022-01-16   \n",
              "11860            Provisional Application Expired      2022-01-16   \n",
              "\n",
              "      app_file_location_cat app_num_value app_num_electronic  \\\n",
              "0                ELECTRONIC      17139999           17139999   \n",
              "1                ELECTRONIC      17140004           17140004   \n",
              "2                ELECTRONIC      17140001           17140001   \n",
              "3                ELECTRONIC      17140012           17140012   \n",
              "4                ELECTRONIC      17140015           17140015   \n",
              "...                     ...           ...                ...   \n",
              "11856            ELECTRONIC      63136268           63136268   \n",
              "11857            ELECTRONIC      63136281           63136281   \n",
              "11858            ELECTRONIC      63136281           63136281   \n",
              "11859            ELECTRONIC      63136275           63136275   \n",
              "11860            ELECTRONIC      63136289           63136289   \n",
              "\n",
              "      app_group_art_value app_group_art_electronic      examiner_name  \\\n",
              "0                    1629                     1629  ANDERSON, JAMES D   \n",
              "1                    OPAP                     OPAP    CENTRAL, DOCKET   \n",
              "2                    3774                     3774   PREBILIC, PAUL B   \n",
              "3                    OPAP                     OPAP    CENTRAL, DOCKET   \n",
              "4                    OPAP                     OPAP    CENTRAL, DOCKET   \n",
              "...                   ...                      ...                ...   \n",
              "11856                2921                     2921                NaN   \n",
              "11857                2921                     2921                NaN   \n",
              "11858                2921                     2921                NaN   \n",
              "11859                2921                     2921                NaN   \n",
              "11860                2921                     2921                NaN   \n",
              "\n",
              "                                         prosecutionDate  \\\n",
              "0      [2022-08-02, 2022-08-02, 2022-08-02, 2022-07-2...   \n",
              "1      [2022-07-27, 2022-07-27, 2022-07-07, 2022-07-0...   \n",
              "2      [2022-11-30, 2022-11-30, 2022-11-30, 2022-11-2...   \n",
              "3      [2022-07-08, 2022-07-07, 2022-07-07, 2021-08-2...   \n",
              "4      [2021-08-21, 2021-07-29, 2021-07-29, 2021-01-2...   \n",
              "...                                                  ...   \n",
              "11856  [2022-01-16, 2021-12-08, 2021-12-08, 2021-01-1...   \n",
              "11857  [2022-01-16, 2021-01-15, 2021-01-15, 2021-01-1...   \n",
              "11858  [2022-01-16, 2021-01-14, 2021-01-14, 2021-01-1...   \n",
              "11859  [2022-01-16, 2021-04-23, 2021-04-23, 2021-04-2...   \n",
              "11860  [2022-01-16, 2021-01-15, 2021-01-15, 2021-01-1...   \n",
              "\n",
              "                                    prosecutionEventCode  \\\n",
              "0      [ELC_RVW, EML_NTF, MCTRS, CTRS, DOCK, DOCK, EM...   \n",
              "1      [M844, WIDS, CCRDY, PG-ISSUE, DOCK, M844, WIDS...   \n",
              "2      [ELC_RVW, EML_NTF, MCTRS, CTRS, DOCK, DOCK, EM...   \n",
              "3      [EML_NTR, CCRDY, PG-ISSUE, DOCK, OIPE, EML_NTR...   \n",
              "4      [DOCK, CCRDY, PG-ISSUE, OIPE, PGPC, FTFS, PTA....   \n",
              "...                                                  ...   \n",
              "11856  [EXPRO, EML_NTR, PA.., EML_NTR, CCRDY, OIPE, C...   \n",
              "11857  [EXPRO, EML_NTR, CCRDY, OIPE, COMP, FLRCPT.O, ...   \n",
              "11858  [EXPRO, EML_NTR, CCRDY, OIPE, COMP, FLRCPT.O, ...   \n",
              "11859  [EXPRO, EML_NTR, CCRDY, OIPE, COMP, FLRCPT.O, ...   \n",
              "11860  [EXPRO, EML_NTR, CCRDY, OIPE, COMP, FLRCPT.O, ...   \n",
              "\n",
              "                             prosecutionEventDescription  \n",
              "0      [Electronic Review, Email Notification, Mail R...  \n",
              "1      [Information Disclosure Statement (IDS) Filed,...  \n",
              "2      [Electronic Review, Email Notification, Mail R...  \n",
              "3      [Email Notification, Application ready for PDX...  \n",
              "4      [Case Docketed to Examiner in GAU, Application...  \n",
              "...                                                  ...  \n",
              "11856  [EXPIRED PROVISIONAL, Email Notification, Chan...  \n",
              "11857  [EXPIRED PROVISIONAL, Email Notification, Appl...  \n",
              "11858  [EXPIRED PROVISIONAL, Email Notification, Appl...  \n",
              "11859  [EXPIRED PROVISIONAL, Email Notification, Appl...  \n",
              "11860  [EXPIRED PROVISIONAL, Email Notification, Appl...  \n",
              "\n",
              "[11861 rows x 15 columns]"
            ]
          },
          "execution_count": 367,
          "metadata": {},
          "output_type": "execute_result"
        }
      ],
      "source": [
        "pd.DataFrame(data_dict_1)[\"app_num_value\"] == "
      ]
    },
    {
      "cell_type": "code",
      "execution_count": null,
      "metadata": {
        "id": "BvLBdqsQ_UXm",
        "outputId": "faf9abaa-664f-49b5-e0a1-c5caa9367dcd"
      },
      "outputs": [
        {
          "data": {
            "text/plain": [
              "'63136289'"
            ]
          },
          "execution_count": 369,
          "metadata": {},
          "output_type": "execute_result"
        }
      ],
      "source": [
        "data_dict_1[\"app_num_value\"][-1]"
      ]
    },
    {
      "cell_type": "code",
      "execution_count": null,
      "metadata": {
        "id": "urIS884e_UXm",
        "outputId": "cb02329d-c0cb-47f0-f24c-42e38e1cdb56"
      },
      "outputs": [
        {
          "data": {
            "text/plain": [
              "nan"
            ]
          },
          "execution_count": 371,
          "metadata": {},
          "output_type": "execute_result"
        }
      ],
      "source": [
        "np.nan"
      ]
    },
    {
      "cell_type": "code",
      "execution_count": null,
      "metadata": {
        "id": "qsBeu0IC_UXm",
        "outputId": "39d7cc79-391d-4503-fde6-8cfd62ea421a"
      },
      "outputs": [
        {
          "data": {
            "text/plain": [
              "50375"
            ]
          },
          "execution_count": 374,
          "metadata": {},
          "output_type": "execute_result"
        }
      ],
      "source": [
        "counter%100000"
      ]
    },
    {
      "cell_type": "code",
      "execution_count": null,
      "metadata": {
        "id": "479oJJ19_UXn",
        "outputId": "461500bd-ceb2-4656-b421-ebcc483a629e"
      },
      "outputs": [
        {
          "data": {
            "text/plain": [
              "350375"
            ]
          },
          "execution_count": 373,
          "metadata": {},
          "output_type": "execute_result"
        }
      ],
      "source": [
        "counter"
      ]
    },
    {
      "cell_type": "code",
      "execution_count": null,
      "metadata": {
        "id": "DQURmM3Y_UXn",
        "outputId": "4d7b4e12-fc25-490e-e235-04fb0c28805a"
      },
      "outputs": [
        {
          "data": {
            "text/html": [
              "<div>\n",
              "<style scoped>\n",
              "    .dataframe tbody tr th:only-of-type {\n",
              "        vertical-align: middle;\n",
              "    }\n",
              "\n",
              "    .dataframe tbody tr th {\n",
              "        vertical-align: top;\n",
              "    }\n",
              "\n",
              "    .dataframe thead th {\n",
              "        text-align: right;\n",
              "    }\n",
              "</style>\n",
              "<table border=\"1\" class=\"dataframe\">\n",
              "  <thead>\n",
              "    <tr style=\"text-align: right;\">\n",
              "      <th></th>\n",
              "      <th>app_filing_date</th>\n",
              "      <th>app_type_category</th>\n",
              "      <th>app_business_entity_cat</th>\n",
              "      <th>app_FITFI</th>\n",
              "      <th>app_status_cat</th>\n",
              "      <th>app_status_date</th>\n",
              "      <th>app_file_location_cat</th>\n",
              "      <th>app_num_value</th>\n",
              "      <th>app_num_electronic</th>\n",
              "      <th>app_group_art_value</th>\n",
              "      <th>app_group_art_electronic</th>\n",
              "      <th>examiner_name</th>\n",
              "      <th>prosecutionDate</th>\n",
              "      <th>prosecutionEventCode</th>\n",
              "      <th>prosecutionEventDescription</th>\n",
              "    </tr>\n",
              "  </thead>\n",
              "  <tbody>\n",
              "  </tbody>\n",
              "</table>\n",
              "</div>"
            ],
            "text/plain": [
              "Empty DataFrame\n",
              "Columns: [app_filing_date, app_type_category, app_business_entity_cat, app_FITFI, app_status_cat, app_status_date, app_file_location_cat, app_num_value, app_num_electronic, app_group_art_value, app_group_art_electronic, examiner_name, prosecutionDate, prosecutionEventCode, prosecutionEventDescription]\n",
              "Index: []"
            ]
          },
          "execution_count": 402,
          "metadata": {},
          "output_type": "execute_result"
        }
      ],
      "source": [
        "pd.DataFrame({'app_filing_date': {},\n",
        " 'app_type_category': {},\n",
        " 'app_business_entity_cat': {},\n",
        " 'app_FITFI': {},\n",
        " 'app_status_cat': {},\n",
        " 'app_status_date': {},\n",
        " 'app_file_location_cat': {},\n",
        " 'app_num_value': {},\n",
        " 'app_num_electronic': {},\n",
        " 'app_group_art_value': {},\n",
        " 'app_group_art_electronic': {},\n",
        " 'examiner_name': {},\n",
        " 'prosecutionDate': {},\n",
        " 'prosecutionEventCode': {},\n",
        " 'prosecutionEventDescription': {}})"
      ]
    },
    {
      "cell_type": "code",
      "execution_count": null,
      "metadata": {
        "id": "N-7Sp8CF_UXn"
      },
      "outputs": [],
      "source": [
        "final_data = pd.read_csv(\"100000_2021_prosecution_file.csv\")"
      ]
    },
    {
      "cell_type": "code",
      "execution_count": null,
      "metadata": {
        "id": "MC-B3eIS_UXo",
        "outputId": "76c22033-7abf-4b5a-c977-45dc3a2652d8"
      },
      "outputs": [
        {
          "data": {
            "text/html": [
              "<div>\n",
              "<style scoped>\n",
              "    .dataframe tbody tr th:only-of-type {\n",
              "        vertical-align: middle;\n",
              "    }\n",
              "\n",
              "    .dataframe tbody tr th {\n",
              "        vertical-align: top;\n",
              "    }\n",
              "\n",
              "    .dataframe thead th {\n",
              "        text-align: right;\n",
              "    }\n",
              "</style>\n",
              "<table border=\"1\" class=\"dataframe\">\n",
              "  <thead>\n",
              "    <tr style=\"text-align: right;\">\n",
              "      <th></th>\n",
              "      <th>Unnamed: 0</th>\n",
              "      <th>app_filing_date</th>\n",
              "      <th>app_type_category</th>\n",
              "      <th>app_business_entity_cat</th>\n",
              "      <th>app_FITFI</th>\n",
              "      <th>app_status_cat</th>\n",
              "      <th>app_status_date</th>\n",
              "      <th>app_file_location_cat</th>\n",
              "      <th>app_num_value</th>\n",
              "      <th>app_num_electronic</th>\n",
              "      <th>app_group_art_value</th>\n",
              "      <th>app_group_art_electronic</th>\n",
              "      <th>examiner_name</th>\n",
              "      <th>prosecutionDate</th>\n",
              "    </tr>\n",
              "  </thead>\n",
              "  <tbody>\n",
              "    <tr>\n",
              "      <th>0</th>\n",
              "      <td>0</td>\n",
              "      <td>2021-01-01</td>\n",
              "      <td>Utility</td>\n",
              "      <td>SMALL</td>\n",
              "      <td>true</td>\n",
              "      <td>Non Final Action Mailed</td>\n",
              "      <td>2022-07-29</td>\n",
              "      <td>ELECTRONIC</td>\n",
              "      <td>17139999</td>\n",
              "      <td>17139999</td>\n",
              "      <td>1629</td>\n",
              "      <td>1629</td>\n",
              "      <td>ANDERSON, JAMES D</td>\n",
              "      <td>['ELC_RVW', '2022-08-02', 'Electronic Review']</td>\n",
              "    </tr>\n",
              "    <tr>\n",
              "      <th>1</th>\n",
              "      <td>0</td>\n",
              "      <td>2021-01-01</td>\n",
              "      <td>Utility</td>\n",
              "      <td>SMALL</td>\n",
              "      <td>true</td>\n",
              "      <td>Non Final Action Mailed</td>\n",
              "      <td>2022-07-29</td>\n",
              "      <td>ELECTRONIC</td>\n",
              "      <td>17139999</td>\n",
              "      <td>17139999</td>\n",
              "      <td>1629</td>\n",
              "      <td>1629</td>\n",
              "      <td>ANDERSON, JAMES D</td>\n",
              "      <td>['EML_NTF', '2022-08-02', 'Email Notification']</td>\n",
              "    </tr>\n",
              "    <tr>\n",
              "      <th>2</th>\n",
              "      <td>0</td>\n",
              "      <td>2021-01-01</td>\n",
              "      <td>Utility</td>\n",
              "      <td>SMALL</td>\n",
              "      <td>true</td>\n",
              "      <td>Non Final Action Mailed</td>\n",
              "      <td>2022-07-29</td>\n",
              "      <td>ELECTRONIC</td>\n",
              "      <td>17139999</td>\n",
              "      <td>17139999</td>\n",
              "      <td>1629</td>\n",
              "      <td>1629</td>\n",
              "      <td>ANDERSON, JAMES D</td>\n",
              "      <td>['MCTRS', '2022-08-02', 'Mail Restriction Requ...</td>\n",
              "    </tr>\n",
              "    <tr>\n",
              "      <th>3</th>\n",
              "      <td>0</td>\n",
              "      <td>2021-01-01</td>\n",
              "      <td>Utility</td>\n",
              "      <td>SMALL</td>\n",
              "      <td>true</td>\n",
              "      <td>Non Final Action Mailed</td>\n",
              "      <td>2022-07-29</td>\n",
              "      <td>ELECTRONIC</td>\n",
              "      <td>17139999</td>\n",
              "      <td>17139999</td>\n",
              "      <td>1629</td>\n",
              "      <td>1629</td>\n",
              "      <td>ANDERSON, JAMES D</td>\n",
              "      <td>['CTRS', '2022-07-28', 'Restriction/Election R...</td>\n",
              "    </tr>\n",
              "    <tr>\n",
              "      <th>4</th>\n",
              "      <td>0</td>\n",
              "      <td>2021-01-01</td>\n",
              "      <td>Utility</td>\n",
              "      <td>SMALL</td>\n",
              "      <td>true</td>\n",
              "      <td>Non Final Action Mailed</td>\n",
              "      <td>2022-07-29</td>\n",
              "      <td>ELECTRONIC</td>\n",
              "      <td>17139999</td>\n",
              "      <td>17139999</td>\n",
              "      <td>1629</td>\n",
              "      <td>1629</td>\n",
              "      <td>ANDERSON, JAMES D</td>\n",
              "      <td>['DOCK', '2022-04-09', 'Case Docketed to Exami...</td>\n",
              "    </tr>\n",
              "  </tbody>\n",
              "</table>\n",
              "</div>"
            ],
            "text/plain": [
              "   Unnamed: 0 app_filing_date app_type_category app_business_entity_cat  \\\n",
              "0           0      2021-01-01           Utility                   SMALL   \n",
              "1           0      2021-01-01           Utility                   SMALL   \n",
              "2           0      2021-01-01           Utility                   SMALL   \n",
              "3           0      2021-01-01           Utility                   SMALL   \n",
              "4           0      2021-01-01           Utility                   SMALL   \n",
              "\n",
              "  app_FITFI           app_status_cat app_status_date app_file_location_cat  \\\n",
              "0      true  Non Final Action Mailed      2022-07-29            ELECTRONIC   \n",
              "1      true  Non Final Action Mailed      2022-07-29            ELECTRONIC   \n",
              "2      true  Non Final Action Mailed      2022-07-29            ELECTRONIC   \n",
              "3      true  Non Final Action Mailed      2022-07-29            ELECTRONIC   \n",
              "4      true  Non Final Action Mailed      2022-07-29            ELECTRONIC   \n",
              "\n",
              "   app_num_value  app_num_electronic app_group_art_value  \\\n",
              "0       17139999            17139999                1629   \n",
              "1       17139999            17139999                1629   \n",
              "2       17139999            17139999                1629   \n",
              "3       17139999            17139999                1629   \n",
              "4       17139999            17139999                1629   \n",
              "\n",
              "  app_group_art_electronic      examiner_name  \\\n",
              "0                     1629  ANDERSON, JAMES D   \n",
              "1                     1629  ANDERSON, JAMES D   \n",
              "2                     1629  ANDERSON, JAMES D   \n",
              "3                     1629  ANDERSON, JAMES D   \n",
              "4                     1629  ANDERSON, JAMES D   \n",
              "\n",
              "                                     prosecutionDate  \n",
              "0     ['ELC_RVW', '2022-08-02', 'Electronic Review']  \n",
              "1    ['EML_NTF', '2022-08-02', 'Email Notification']  \n",
              "2  ['MCTRS', '2022-08-02', 'Mail Restriction Requ...  \n",
              "3  ['CTRS', '2022-07-28', 'Restriction/Election R...  \n",
              "4  ['DOCK', '2022-04-09', 'Case Docketed to Exami...  "
            ]
          },
          "execution_count": 415,
          "metadata": {},
          "output_type": "execute_result"
        }
      ],
      "source": [
        "final_data.head()"
      ]
    },
    {
      "cell_type": "code",
      "execution_count": null,
      "metadata": {
        "id": "4bsfk01s_UXo",
        "outputId": "5604fca9-f2f8-485e-a951-fc2c3a14c738"
      },
      "outputs": [
        {
          "data": {
            "text/plain": [
              "[array(['ELC_RVW', '2022-08-02', 'Electronic Review'], dtype='<U17'),\n",
              " array(['EML_NTF', '2022-08-02', 'Email Notification'], dtype='<U18'),\n",
              " array(['MCTRS', '2022-08-02', 'Mail Restriction Requirement'],\n",
              "       dtype='<U28'),\n",
              " array(['CTRS', '2022-07-28', 'Restriction/Election Requirement'],\n",
              "       dtype='<U32'),\n",
              " array(['DOCK', '2022-04-09', 'Case Docketed to Examiner in GAU'],\n",
              "       dtype='<U32')]"
            ]
          },
          "execution_count": 422,
          "metadata": {},
          "output_type": "execute_result"
        }
      ],
      "source": [
        "final_data[] final_data[\"prosecutionDate\"].head().apply(lambda x : np.array(literal_eval(x))).to_list()"
      ]
    },
    {
      "cell_type": "code",
      "execution_count": null,
      "metadata": {
        "id": "fO8PnXxc_UXo"
      },
      "outputs": [],
      "source": [
        "from ast import literal_eval"
      ]
    },
    {
      "cell_type": "code",
      "execution_count": null,
      "metadata": {
        "id": "ATiymrB0_UXo"
      },
      "outputs": [],
      "source": [
        "data[[\"code\", \"date\", \"desc\"]] = data[\"prosecutionDate\"].to_list()"
      ]
    },
    {
      "cell_type": "code",
      "execution_count": null,
      "metadata": {
        "id": "utFhZvUI_UXp",
        "outputId": "41902aec-3e57-4132-923b-b071075defa6"
      },
      "outputs": [
        {
          "data": {
            "text/plain": [
              "0         EML_NTR\n",
              "0            PA..\n",
              "0         EML_NTR\n",
              "0           CCRDY\n",
              "0        PG-ISSUE\n",
              "           ...   \n",
              "48887    SREXR141\n",
              "48887     APPERMS\n",
              "48887        WIDS\n",
              "48887        BIG.\n",
              "48887        IEXX\n",
              "Name: code, Length: 1241618, dtype: object"
            ]
          },
          "execution_count": 429,
          "metadata": {},
          "output_type": "execute_result"
        }
      ],
      "source": [
        "data.code"
      ]
    },
    {
      "cell_type": "code",
      "execution_count": null,
      "metadata": {
        "id": "gJS-dmC__UXp"
      },
      "outputs": [],
      "source": []
    }
  ],
  "metadata": {
    "kernelspec": {
      "display_name": "Python 3 (ipykernel)",
      "language": "python",
      "name": "python3"
    },
    "language_info": {
      "codemirror_mode": {
        "name": "ipython",
        "version": 3
      },
      "file_extension": ".py",
      "mimetype": "text/x-python",
      "name": "python",
      "nbconvert_exporter": "python",
      "pygments_lexer": "ipython3",
      "version": "3.9.7"
    },
    "toc": {
      "base_numbering": 1,
      "nav_menu": {},
      "number_sections": true,
      "sideBar": true,
      "skip_h1_title": false,
      "title_cell": "Table of Contents",
      "title_sidebar": "Contents",
      "toc_cell": false,
      "toc_position": {},
      "toc_section_display": true,
      "toc_window_display": false
    },
    "colab": {
      "provenance": [],
      "include_colab_link": true
    }
  },
  "nbformat": 4,
  "nbformat_minor": 0
}