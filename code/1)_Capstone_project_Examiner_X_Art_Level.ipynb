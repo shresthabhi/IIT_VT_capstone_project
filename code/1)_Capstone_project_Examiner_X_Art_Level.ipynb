{
  "nbformat": 4,
  "nbformat_minor": 0,
  "metadata": {
    "colab": {
      "provenance": [],
      "authorship_tag": "ABX9TyNC6aoHzEJTSdsuiVnXxL3f",
      "include_colab_link": true
    },
    "kernelspec": {
      "name": "python3",
      "display_name": "Python 3"
    },
    "language_info": {
      "name": "python"
    }
  },
  "cells": [
    {
      "cell_type": "markdown",
      "metadata": {
        "id": "view-in-github",
        "colab_type": "text"
      },
      "source": [
        "<a href=\"https://colab.research.google.com/github/shresthabhi/IIT_VT_capstone_project/blob/main/code/1)_Capstone_project_Examiner_X_Art_Level.ipynb\" target=\"_parent\"><img src=\"https://colab.research.google.com/assets/colab-badge.svg\" alt=\"Open In Colab\"/></a>"
      ]
    },
    {
      "cell_type": "code",
      "execution_count": 1,
      "metadata": {
        "id": "Fv523X99q948"
      },
      "outputs": [],
      "source": [
        "import pandas as pd\n",
        "import numpy as np\n",
        "import matplotlib.pyplot as plt"
      ]
    },
    {
      "cell_type": "code",
      "source": [
        "data_ex_art_level = pd.read_csv(\"https://raw.githubusercontent.com/shresthabhi/IIT_VT_capstone_project/main/data/examiner_art_level_data.csv\")\n",
        "data_ex_level = pd.read_csv(\"https://raw.githubusercontent.com/shresthabhi/IIT_VT_capstone_project/main/data/examiner_level_data.csv\")\n",
        "data_art_level = pd.read_csv(\"https://raw.githubusercontent.com/shresthabhi/IIT_VT_capstone_project/main/data/art_level_data.csv\")"
      ],
      "metadata": {
        "id": "1iNYxGla6WLW"
      },
      "execution_count": 2,
      "outputs": []
    },
    {
      "cell_type": "code",
      "source": [],
      "metadata": {
        "id": "grU59U0v60Gr"
      },
      "execution_count": null,
      "outputs": []
    }
  ]
}